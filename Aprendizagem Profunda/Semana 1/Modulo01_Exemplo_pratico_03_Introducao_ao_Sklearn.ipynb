{
  "nbformat": 4,
  "nbformat_minor": 0,
  "metadata": {
    "colab": {
      "provenance": []
    },
    "kernelspec": {
      "name": "python3",
      "display_name": "Python 3"
    },
    "language_info": {
      "name": "python"
    }
  },
  "cells": [
    {
      "cell_type": "markdown",
      "source": [
        "# Modelo para classificação de imagens com o algoritmo SGD, utilizando o dataset \"digits\":"
      ],
      "metadata": {
        "id": "_LJ4zS8oDPIa"
      }
    },
    {
      "cell_type": "code",
      "source": [
        "# Importando as bibliotecas necessárias\n",
        "from sklearn import datasets\n",
        "from sklearn.model_selection import train_test_split\n",
        "from sklearn.svm import SVC\n",
        "from sklearn.linear_model import SGDClassifier\n",
        "from sklearn.metrics import accuracy_score\n",
        "from sklearn.model_selection import cross_val_score\n",
        "from sklearn.preprocessing import OneHotEncoder\n",
        "from sklearn.neural_network import MLPClassifier\n",
        "from sklearn.datasets import make_classification\n",
        "from sklearn.linear_model import LogisticRegression\n",
        "\n",
        "import matplotlib.pyplot as plt\n",
        "import numpy as np"
      ],
      "metadata": {
        "id": "RCZ2F3b5kBCT"
      },
      "execution_count": null,
      "outputs": []
    },
    {
      "cell_type": "code",
      "source": [
        "# Carregando o conjunto de dados Digits (números escritos à mão)\n",
        "digits = datasets.load_digits()\n",
        "\n",
        "# extraindo os dados e as labels\n",
        "X_digits = digits.data\n",
        "y_digits = digits.target"
      ],
      "metadata": {
        "id": "_PROz4irkFVq"
      },
      "execution_count": null,
      "outputs": []
    },
    {
      "cell_type": "code",
      "source": [
        "# Dividir os dados em treino e teste (80% treino, 20% teste)\n",
        "X_train, X_test, y_train, y_test = train_test_split(X_digits, y_digits, test_size=0.2, random_state=42)\n",
        "\n",
        "print(\"Número de amostras de treino:\", len(X_train))\n",
        "print(\"Número de amostras de teste:\", len(X_test))"
      ],
      "metadata": {
        "id": "beu0CmawdUQC"
      },
      "execution_count": null,
      "outputs": []
    },
    {
      "cell_type": "code",
      "source": [
        "# Criando o modelo\n",
        "sgd_classifier = SGDClassifier(max_iter=1000, random_state=42)\n",
        "\n",
        "# iniciando o processo de treinamento\n",
        "# A API do sklearn possui uma interface padrão para todos os modelos do framework\n",
        "# Chamamos a função fit da classe passando como parâmetro os exemplos e os labels\n",
        "# Podemos customizar os parâmetros da função fit\n",
        "# Cada algoritmo ou modelo possui parâmetros específicos\n",
        "# Consulte a API do modelo para descobrir as customizações disponíveis\n",
        "sgd_classifier.fit(X_train, y_train)\n",
        "\n",
        "# Utilizamos o predict para fazer predições no conjunto de teste\n",
        "# Passamos apenas os exemplos sem o rotulo\n",
        "# Podemos comparar posteriormente as predições geradas com o valor esperado\n",
        "y_pred = sgd_classifier.predict(X_test)\n",
        "\n",
        "# Avaliar a acurácia do modelo\n",
        "accuracy = accuracy_score(y_test, y_pred)\n",
        "print(\"Acurácia do SGDClassifier no conjunto de teste:\", accuracy)"
      ],
      "metadata": {
        "id": "3kL4YybvgNzO"
      },
      "execution_count": null,
      "outputs": []
    },
    {
      "cell_type": "code",
      "source": [
        "# Realizando uma predição e visualizando o resultado\n",
        "\n",
        "# Selecionar uma amostra aleatória do conjunto de teste\n",
        "sample_index = np.random.randint(0, len(X_test))\n",
        "sample_image = X_test[sample_index].reshape(8, 8)  # Os dígitos são imagens de 8x8 pixels\n",
        "true_label = y_test[sample_index]\n",
        "\n",
        "# Fazer a predição para a amostra selecionada\n",
        "predicted_label = sgd_classifier.predict([X_test[sample_index]])[0]\n",
        "\n",
        "# Visualizar a imagem e a predição\n",
        "plt.imshow(sample_image, cmap='gray')\n",
        "plt.title(f\"Valor real: {true_label}        Previsto pelo modelo: {predicted_label}\")\n",
        "plt.show()"
      ],
      "metadata": {
        "id": "oCJa5a-9gjE-"
      },
      "execution_count": null,
      "outputs": []
    },
    {
      "cell_type": "markdown",
      "source": [
        "# Validação cruzada do modelo:\n",
        "\n"
      ],
      "metadata": {
        "id": "5XWdDZr5DvJL"
      }
    },
    {
      "cell_type": "code",
      "source": [
        "# Realizar a validação cruzada com 5 folds\n",
        "cross_val_scores = cross_val_score(sgd_classifier, digits.data, digits.target, cv=5, scoring='accuracy')\n",
        "\n",
        "# Exibir as pontuações de validação cruzada\n",
        "print(\"Pontuações de Validação Cruzada:\", cross_val_scores)\n",
        "\n",
        "# Exibir a média e o desvio padrão das pontuações\n",
        "print(f\"Acurácia Média: {np.mean(cross_val_scores):.2f}\")\n",
        "print(f\"Desvio Padrão: {np.std(cross_val_scores):.2f}\")"
      ],
      "metadata": {
        "id": "XVeVhJtegx-I"
      },
      "execution_count": null,
      "outputs": []
    },
    {
      "cell_type": "markdown",
      "source": [
        "# Normalização e encoding(one-hot):\n",
        "\n"
      ],
      "metadata": {
        "id": "VjYZBx4KFEHG"
      }
    },
    {
      "cell_type": "code",
      "source": [
        "import pandas as pd\n",
        "from sklearn.preprocessing import MinMaxScaler, OneHotEncoder\n",
        "from sklearn.compose import ColumnTransformer\n",
        "from sklearn.pipeline import Pipeline\n",
        "from sklearn.model_selection import train_test_split\n",
        "from sklearn.ensemble import RandomForestClassifier\n",
        "\n",
        "# Criar um conjunto de dados de exemplo\n",
        "dados = pd.DataFrame({\n",
        "    'idade': [25, 30, 35, 40],\n",
        "    'gênero': ['F', 'M', 'F', 'M'],\n",
        "    'salário': [50000, 80000, 60000, 70000],\n",
        "    'classe': ['A', 'B', 'A', 'B']\n",
        "})\n",
        "\n",
        "# Dividir os dados em recursos (X) e rótulos (y)\n",
        "X = dados.drop('classe', axis=1)\n",
        "y = dados['classe']\n",
        "\n",
        "# Dividir em conjuntos de treino e teste\n",
        "X_train, X_test, y_train, y_test = train_test_split(X, y, test_size=0.25, random_state=42)\n",
        "\n",
        "# Definir as colunas a serem normalizadas e as a serem one-hot encoded\n",
        "numeric_features = ['idade', 'salário']\n",
        "categorical_features = ['gênero']\n",
        "\n",
        "# Criar um transformador para aplicar normalização e one-hot encoding\n",
        "preprocessor = ColumnTransformer(\n",
        "    transformers=[\n",
        "        ('num', MinMaxScaler(), numeric_features),\n",
        "        ('cat', OneHotEncoder(), categorical_features)\n",
        "    ])\n",
        "\n",
        "# Aplicar as transformações aos dados\n",
        "X_transformed = preprocessor.fit_transform(X)\n",
        "\n",
        "# Exibir coluna por coluna dos dados transformados\n",
        "print(\"Dados originais:\")\n",
        "print(X)\n",
        "\n",
        "# Coluna 1: 'idade' (Normalizada)\n",
        "print(\"\\nColuna 1 ('idade') após normalização:\")\n",
        "print(X_transformed[:, 0])\n",
        "\n",
        "# Coluna 2: 'salário' (Normalizada)\n",
        "print(\"\\nColuna 2 ('salário') após normalização:\")\n",
        "print(X_transformed[:, 1])\n",
        "\n",
        "# Colunas 3 e 4: 'gênero' (One-hot encoded)\n",
        "print(\"\\nColunas 3 e 4 ('gênero') após one-hot encoding:\")\n",
        "print(X_transformed[:, 2:])  # A partir da coluna 2 até o final\n",
        "\n",
        "# Conjunto de dados final:\n",
        "print(\"\\n Matriz final: \\n\"+str(X_transformed))\n",
        "\n",
        "# Observação: A ordem das colunas pode variar dependendo da ordem de aplicação das transformações."
      ],
      "metadata": {
        "id": "hzlmIDxYFees"
      },
      "execution_count": null,
      "outputs": []
    },
    {
      "cell_type": "markdown",
      "source": [
        "# Regressão Logística:"
      ],
      "metadata": {
        "id": "ibVLrHpPHoAj"
      }
    },
    {
      "cell_type": "code",
      "source": [
        "# Carregando um conjunto de dados para o exemplo\n",
        "iris = datasets.load_iris()\n",
        "X = iris.data[:, :2]  # Vamos usar apenas duas características para facilitar a visualização\n",
        "y = (iris.target != 0) * 1  # Transformando em um problema de classificação binária\n",
        "\n",
        "# Dividindo o conjunto de dados em treino e teste\n",
        "X_train, X_test, y_train, y_test = train_test_split(X, y, test_size=0.2, random_state=42)"
      ],
      "metadata": {
        "id": "2P_sWeXtHqPi"
      },
      "execution_count": null,
      "outputs": []
    },
    {
      "cell_type": "code",
      "source": [
        "# Inicializando o modelo de regressão logística\n",
        "model = LogisticRegression()\n",
        "\n",
        "# Treinando o modelo\n",
        "model.fit(X_train, y_train)\n",
        "\n",
        "# Fazendo previsões no conjunto de teste\n",
        "y_pred = model.predict(X_test)\n",
        "\n",
        "# Calculando a acurácia do modelo\n",
        "accuracy = np.mean(y_pred == y_test)\n",
        "print(f'Acurácia do modelo: {accuracy * 100:.2f}%')"
      ],
      "metadata": {
        "id": "b3KbTDCDLUN3"
      },
      "execution_count": null,
      "outputs": []
    },
    {
      "cell_type": "code",
      "source": [
        "# Visualizando as fronteiras de decisão\n",
        "x_min, x_max = X[:, 0].min() - 1, X[:, 0].max() + 1\n",
        "y_min, y_max = X[:, 1].min() - 1, X[:, 1].max() + 1\n",
        "xx, yy = np.meshgrid(np.arange(x_min, x_max, 0.01), np.arange(y_min, y_max, 0.01))\n",
        "Z = model.predict(np.c_[xx.ravel(), yy.ravel()])\n",
        "Z = Z.reshape(xx.shape)\n",
        "\n",
        "plt.contourf(xx, yy, Z, alpha=0.3)\n",
        "plt.scatter(X_test[:, 0], X_test[:, 1], c=y_test, edgecolors='k', marker='o', s=100, linewidth=1)\n",
        "plt.title(\"Regressão Logística - Fronteiras de Decisão\")\n",
        "plt.xlabel('Feature 1')\n",
        "plt.ylabel('Feature 2')\n",
        "plt.show()"
      ],
      "metadata": {
        "id": "X4fqJOleLYQU"
      },
      "execution_count": null,
      "outputs": []
    },
    {
      "cell_type": "markdown",
      "source": [
        "## MLPClassifier do Sklearn exemplo com classificação categorica de duas classes."
      ],
      "metadata": {
        "id": "5UdVuEIKDOg0"
      }
    },
    {
      "cell_type": "code",
      "source": [
        "# Gerando dados de exemplo\n",
        "X, y = make_classification(n_samples=1000, n_features=20, n_classes=2, random_state=42)\n",
        "\n",
        "# Dividindo os dados em conjuntos de treino e teste\n",
        "X_train, X_test, y_train, y_test = train_test_split(X, y, test_size=0.2, random_state=42)"
      ],
      "metadata": {
        "id": "zkR62k5KDTff"
      },
      "execution_count": null,
      "outputs": []
    },
    {
      "cell_type": "code",
      "source": [
        "# Plotando os dados de treino\n",
        "plt.figure(figsize=(12, 5))\n",
        "\n",
        "# Mapeamento das classes para cores\n",
        "color_map = {0: 'red', 1: 'green'}\n",
        "\n",
        "# Usando 'c' para fornecer cores diretamente\n",
        "plt.scatter(X_train[:, 0], X_train[:, 1], c=[color_map[label] for label in y_train])\n",
        "\n",
        "plt.title('Dados de Treino')\n",
        "plt.xlabel('Feature 1')\n",
        "plt.ylabel('Feature 2')\n",
        "\n",
        "# Adicionando a legenda\n",
        "for class_label, color in color_map.items():\n",
        "    plt.scatter([], [], c=color, label=f'Classe {class_label}')\n",
        "\n",
        "plt.legend()\n",
        "plt.show()"
      ],
      "metadata": {
        "id": "KS1nNKpSD8UR"
      },
      "execution_count": null,
      "outputs": []
    },
    {
      "cell_type": "code",
      "source": [
        "# Crie o classificador MLP\n",
        "classificador = MLPClassifier(hidden_layer_sizes=(100,), max_iter=800, random_state=42)\n",
        "\n",
        "# Treine o classificador\n",
        "classificador.fit(X_train, y_train)\n",
        "\n",
        "# Faça previsões no conjunto de teste\n",
        "y_pred = classificador.predict(X_test)\n",
        "\n",
        "# Avalie a precisão do modelo\n",
        "acuracia = accuracy_score(y_test, y_pred)\n",
        "print(f'Acurácia: {acuracia}')"
      ],
      "metadata": {
        "id": "7feXd0pYD_Po"
      },
      "execution_count": null,
      "outputs": []
    },
    {
      "cell_type": "code",
      "source": [
        "# Gerar um novo dado de exemplo para previsão\n",
        "novo_dado = np.random.rand(1, 20)\n",
        "\n",
        "# Realizar a previsão do novo dado\n",
        "previsao = classificador.predict(novo_dado)"
      ],
      "metadata": {
        "id": "IQpCrV7fH2aT"
      },
      "execution_count": null,
      "outputs": []
    },
    {
      "cell_type": "code",
      "source": [
        "# Plotar os dados de treino\n",
        "plt.figure(figsize=(12, 5))\n",
        "plt.scatter(X_train[:, 0], X_train[:, 1], c=[color_map[label] for label in y_train])\n",
        "\n",
        "# Adicionar o novo dado à plotagem\n",
        "plt.scatter(novo_dado[:, 0], novo_dado[:, 1], c='black', marker='x', s=100, label='Novo Dado')\n",
        "\n",
        "plt.title('Dados de Treino com Novo Dado')\n",
        "plt.xlabel('Feature 1')\n",
        "plt.ylabel('Feature 2')\n",
        "\n",
        "# Adicionar a legenda\n",
        "for class_label, color in color_map.items():\n",
        "    plt.scatter([], [], c=color, label=f'Classe {class_label}')\n",
        "\n",
        "# Exibir a plotagem\n",
        "plt.legend()\n",
        "plt.show()\n",
        "\n",
        "# Exibir a previsão da classe do novo dado\n",
        "print(f'Previsão da Classe para o Novo Dado: {previsao[0]}')"
      ],
      "metadata": {
        "id": "FM6DZaE2IOb1"
      },
      "execution_count": null,
      "outputs": []
    },
    {
      "cell_type": "markdown",
      "source": [
        "## Exercícíos\n",
        "\n",
        "Replique os resultados deste colab utilizando o dataset lfw do sklearn. https://scikit-learn.org/stable/modules/generated/sklearn.datasets.fetch_lfw_people.html#sklearn.datasets.fetch_lfw_people\n",
        "\n",
        "1 - Escolha 3 modelos de classificação disponível na API do sklearn. https://scikit-learn.org/stable/auto_examples/classification/plot_classifier_comparison.html#sphx-glr-auto-examples-classification-plot-classifier-comparison-py\n",
        "\n",
        "2 - Carregue o dataset e separe as partições de treino, validação e teste.\n",
        "\n",
        "3 - Visualize os dados e as classes com base nos rotulos\n",
        "\n",
        "4 - Realize o processamento dos dados se necessário\n",
        "\n",
        "5 - Treine os modelos com os dados obtidos\n",
        "\n",
        "6 - Realize avaliações no conjunto de teste e compare os resultados dos modelos\n"
      ],
      "metadata": {
        "id": "_78ZEwIMRWpE"
      }
    },
    {
      "cell_type": "code",
      "source": [
        "# Importando as bibliotecas necessárias\n",
        "from sklearn.datasets import fetch_lfw_people\n",
        "from sklearn.model_selection import train_test_split\n",
        "from sklearn.preprocessing import StandardScaler\n",
        "from sklearn.decomposition import PCA\n",
        "from sklearn.pipeline import make_pipeline\n",
        "from sklearn.svm import SVC\n",
        "from sklearn.neighbors import KNeighborsClassifier\n",
        "from sklearn.ensemble import RandomForestClassifier\n",
        "from sklearn.metrics import classification_report\n",
        "import matplotlib.pyplot as plt\n",
        "import numpy as np\n",
        "\n",
        "# Carregando o dataset LFW\n",
        "lfw_people = fetch_lfw_people(min_faces_per_person=80, resize=0.4)\n",
        "\n",
        "# Dividindo os dados em conjuntos de treino, validação e teste (60%, 20%, 20%)\n",
        "X_train_val, X_test, y_train_val, y_test = train_test_split(lfw_people.data, lfw_people.target, test_size=0.2, random_state=42)\n",
        "X_train, X_val, y_train, y_val = train_test_split(X_train_val, y_train_val, test_size=0.25, random_state=42)\n",
        "\n",
        "########################\n",
        "# Encontrando índices únicos para cada pessoa\n",
        "unique_targets = np.unique(lfw_people.target)\n",
        "example_indices = [np.where(lfw_people.target == target)[0][0] for target in unique_targets]\n",
        "\n",
        "# Calculando o número de classes únicas\n",
        "n_classes = len(unique_targets)\n",
        "n_cols = 4\n",
        "n_rows = (n_classes + n_cols - 1) // n_cols  # Arredonda para cima\n",
        "\n",
        "# Configurando a figura para visualização das imagens e rótulos\n",
        "fig, ax = plt.subplots(n_rows, n_cols, figsize=(n_cols * 2.5, n_rows * 2.5))\n",
        "for axi, idx in zip(ax.flat, example_indices):\n",
        "    axi.imshow(lfw_people.images[idx], cmap='gray')\n",
        "    axi.set(xticks=[], yticks=[], xlabel=lfw_people.target_names[lfw_people.target[idx]])\n",
        "\n",
        "# Escondendo subplots vazios se houver\n",
        "for i in range(len(example_indices), n_rows * n_cols):\n",
        "    ax.flat[i].set_visible(False)\n",
        "\n",
        "plt.show()\n",
        "\n",
        "###########################\n",
        "# Definindo os modelos e as grades de hiperparâmetros\n",
        "models = {\n",
        "    \"SVM\": SVC(kernel='linear', class_weight='balanced'),\n",
        "    \"KNN\": KNeighborsClassifier(),\n",
        "    \"Random Forest\": RandomForestClassifier()\n",
        "}\n",
        "\n",
        "hyperparameters = {\n",
        "    \"SVM\": [{'C': 0.1}, {'C': 1}, {'C': 10}],\n",
        "    \"KNN\": [{'n_neighbors': 3}, {'n_neighbors': 5}, {'n_neighbors': 7}],\n",
        "    \"Random Forest\": [{'n_estimators': 10, 'max_depth': 5},\n",
        "                      {'n_estimators': 10, 'max_depth': 10},\n",
        "                      {'n_estimators': 10, 'max_depth': None},\n",
        "                      {'n_estimators': 50, 'max_depth': 5},\n",
        "                      {'n_estimators': 50, 'max_depth': 10},\n",
        "                      {'n_estimators': 50, 'max_depth': None},\n",
        "                      {'n_estimators': 100, 'max_depth': 5},\n",
        "                      {'n_estimators': 100, 'max_depth': 10},\n",
        "                      {'n_estimators': 100, 'max_depth': None}]\n",
        "}\n",
        "\n",
        "best_models = {}\n",
        "best_scores = {}\n",
        "\n",
        "# Iterando sobre os modelos e suas respectivas grades de hiperparâmetros\n",
        "# Usando PCA para redução de dimensionalidade para visualização\n",
        "for model_name, model in models.items():\n",
        "    best_score = 0\n",
        "    best_model = None\n",
        "    for params in hyperparameters[model_name]:\n",
        "        # Configurando os hiperparâmetros\n",
        "        model.set_params(**params)\n",
        "        # Criando o pipeline\n",
        "        pipeline = make_pipeline(StandardScaler(), PCA(n_components=150, whiten=True), model)\n",
        "        # Treinamento do modelo no conjunto de treino\n",
        "        pipeline.fit(X_train, y_train)\n",
        "        # Avaliação no conjunto de validação\n",
        "        score = pipeline.score(X_val, y_val)\n",
        "        if score > best_score:\n",
        "            best_score = score\n",
        "            best_model = pipeline\n",
        "    best_models[model_name] = best_model\n",
        "    best_scores[model_name] = best_score\n",
        "\n",
        "# Avaliando os melhores modelos no conjunto de teste\n",
        "for model_name, model in best_models.items():\n",
        "    y_test_pred = model.predict(X_test)\n",
        "    print(f\"Melhor {model_name} no conjunto de teste:\")\n",
        "    print(classification_report(y_test, y_test_pred, target_names=lfw_people.target_names))\n",
        "    print(f\"Melhor pontuação de validação: {best_scores[model_name]}\\n\")\n"
      ],
      "metadata": {
        "colab": {
          "base_uri": "https://localhost:8080/",
          "height": 1000
        },
        "id": "6SCNBaKlgzdm",
        "outputId": "1b87d978-1ba5-4174-a780-3640e5fdca73"
      },
      "execution_count": null,
      "outputs": [
        {
          "output_type": "display_data",
          "data": {
            "text/plain": [
              "<Figure size 1000x500 with 8 Axes>"
            ],
            "image/png": "[encoded data removed]"
          },
          "metadata": {}
        },
        {
          "output_type": "stream",
          "name": "stdout",
          "text": [
            "Melhor SVM no conjunto de teste:\n",
            "                   precision    recall  f1-score   support\n",
            "\n",
            "     Colin Powell       0.78      0.78      0.78        50\n",
            "  Donald Rumsfeld       0.80      0.96      0.87        25\n",
            "    George W Bush       0.92      0.85      0.88       106\n",
            "Gerhard Schroeder       0.76      0.86      0.81        22\n",
            "       Tony Blair       0.76      0.76      0.76        25\n",
            "\n",
            "         accuracy                           0.84       228\n",
            "        macro avg       0.80      0.84      0.82       228\n",
            "     weighted avg       0.84      0.84      0.84       228\n",
            "\n",
            "Melhor pontuação de validação: 0.8333333333333334\n",
            "\n",
            "Melhor KNN no conjunto de teste:\n",
            "                   precision    recall  f1-score   support\n",
            "\n",
            "     Colin Powell       0.89      0.34      0.49        50\n",
            "  Donald Rumsfeld       1.00      0.20      0.33        25\n",
            "    George W Bush       0.56      0.97      0.71       106\n",
            "Gerhard Schroeder       0.75      0.14      0.23        22\n",
            "       Tony Blair       0.47      0.28      0.35        25\n",
            "\n",
            "         accuracy                           0.59       228\n",
            "        macro avg       0.73      0.39      0.42       228\n",
            "     weighted avg       0.69      0.59      0.53       228\n",
            "\n",
            "Melhor pontuação de validação: 0.6929824561403509\n",
            "\n",
            "Melhor Random Forest no conjunto de teste:\n",
            "                   precision    recall  f1-score   support\n",
            "\n",
            "     Colin Powell       0.88      0.56      0.68        50\n",
            "  Donald Rumsfeld       0.75      0.12      0.21        25\n",
            "    George W Bush       0.56      0.99      0.71       106\n",
            "Gerhard Schroeder       0.00      0.00      0.00        22\n",
            "       Tony Blair       1.00      0.12      0.21        25\n",
            "\n",
            "         accuracy                           0.61       228\n",
            "        macro avg       0.64      0.36      0.36       228\n",
            "     weighted avg       0.64      0.61      0.53       228\n",
            "\n",
            "Melhor pontuação de validação: 0.6403508771929824\n",
            "\n"
          ]
        },
        {
          "output_type": "stream",
          "name": "stderr",
          "text": [
            "/usr/local/lib/python3.10/dist-packages/sklearn/metrics/_classification.py:1344: UndefinedMetricWarning: Precision and F-score are ill-defined and being set to 0.0 in labels with no predicted samples. Use `zero_division` parameter to control this behavior.\n",
            "  _warn_prf(average, modifier, msg_start, len(result))\n",
            "/usr/local/lib/python3.10/dist-packages/sklearn/metrics/_classification.py:1344: UndefinedMetricWarning: Precision and F-score are ill-defined and being set to 0.0 in labels with no predicted samples. Use `zero_division` parameter to control this behavior.\n",
            "  _warn_prf(average, modifier, msg_start, len(result))\n",
            "/usr/local/lib/python3.10/dist-packages/sklearn/metrics/_classification.py:1344: UndefinedMetricWarning: Precision and F-score are ill-defined and being set to 0.0 in labels with no predicted samples. Use `zero_division` parameter to control this behavior.\n",
            "  _warn_prf(average, modifier, msg_start, len(result))\n"
          ]
        }
      ]
    }
  ]
}