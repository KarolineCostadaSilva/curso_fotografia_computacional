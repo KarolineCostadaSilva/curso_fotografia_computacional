{
  "cells": [
    {
      "cell_type": "markdown",
      "metadata": {
        "id": "Nne_DFrByoPA"
      },
      "source": [
        "# Introdução ao Pytorch"
      ]
    },
    {
      "cell_type": "markdown",
      "metadata": {
        "id": "Z66PPosgyoPD"
      },
      "source": [
        "O Pytorch é uma *framework* para aplicações de modelos de redes neurais. Toda sua documentação pode ser vista no site oficial do [Pytorch](https://pytorch.org/).\n",
        "\n",
        "Esse tutorial apresenta alguns passos introdutórios para produção dos modelos de Deep Learning que serão aplicados e foi baseado no tutorial oferecido pelo [Pytorch Tutorial](https://pytorch.org/tutorials/beginner/basics/intro.html).\n",
        "O tutorial tem os seguintes passos:\n",
        "- Tensores\n",
        "- Datasets e Dataloader\n",
        "- Construção do Modelo\n",
        "- Autograd\n",
        "- Treinamento do modelo\n",
        "- Salvamento e Carregamento do modelo"
      ]
    },
    {
      "cell_type": "markdown",
      "metadata": {
        "id": "DmWd-4XjyoPE"
      },
      "source": [
        "Primeiro, importa-se as bibliotecas necessárias para esse tutorial"
      ]
    },
    {
      "cell_type": "markdown",
      "metadata": {
        "id": "nFjiLFxoyoPE"
      },
      "source": [
        "## Tensores\n",
        "\n",
        "Tensores são a estrutura de dados especializadas para os calculos dos parâmetros desejados dos modelos. Nesta sessão serão descritos como criar os tensores e algumas operações básicas.\n"
      ]
    },
    {
      "cell_type": "code",
      "execution_count": 1,
      "metadata": {
        "id": "KeQMnSzEyoPF"
      },
      "outputs": [],
      "source": [
        "# Bibliotecas necessárias para essa seção\n",
        "import torch\n",
        "import numpy as numpy"
      ]
    },
    {
      "cell_type": "markdown",
      "metadata": {
        "id": "40PfMrRNyoPG"
      },
      "source": [
        "### Inicialização de Tensores"
      ]
    },
    {
      "cell_type": "markdown",
      "metadata": {
        "id": "3irqHRmfyoPG"
      },
      "source": []
    },
    {
      "cell_type": "code",
      "execution_count": 2,
      "metadata": {
        "id": "GNc4d6cfyoPG",
        "colab": {
          "base_uri": "https://localhost:8080/"
        },
        "outputId": "ac2c1eb0-ebd1-4394-ba77-00332b46c325"
      },
      "outputs": [
        {
          "output_type": "stream",
          "name": "stdout",
          "text": [
            "Valores a partir de uma lista: tensor([[1, 2],\n",
            "        [2, 4]])\n",
            "\n",
            "\n",
            "Valores a partir partir de um numpy array: [[1, 2], [2, 4]]\n",
            "\n",
            "\n",
            "Valores unitários a partir de um tensor: tensor([[1, 1],\n",
            "        [1, 1]])\n",
            "\n",
            "\n",
            "Valores aleatórios a partir de um tensor: tensor([[0.0576, 0.8467],\n",
            "        [0.6413, 0.3519]])\n",
            "\n",
            "\n"
          ]
        }
      ],
      "source": [
        "# Inicialização do Tensor a partir de uma lista\n",
        "data = [[1, 2], [2, 4]]\n",
        "x_data = torch.tensor(data)\n",
        "print(f\"Valores a partir de uma lista: {x_data}\", end=\"\\n\\n\\n\")\n",
        "\n",
        "# Inicialização do Tensor a partir de um numpy array\n",
        "np_array = [[1, 2], [2, 4]]\n",
        "x_np = torch.tensor(np_array)\n",
        "print(f\"Valores a partir partir de um numpy array: {np_array}\", end=\"\\n\\n\\n\")\n",
        "\n",
        "# Inicialização do Tensor a partir de outro tensor.\n",
        "# Valores unitários\n",
        "x_ones = torch.ones_like(x_data)\n",
        "print(f\"Valores unitários a partir de um tensor: {x_ones}\", end=\"\\n\\n\\n\")\n",
        "\n",
        "# Valores aleatórios\n",
        "x_rand = torch.rand_like(x_data, dtype=torch.float)\n",
        "print(f\"Valores aleatórios a partir de um tensor: {x_rand}\", end=\"\\n\\n\\n\")\n"
      ]
    },
    {
      "cell_type": "code",
      "execution_count": 3,
      "metadata": {
        "id": "EV_WD0Q0yoPH",
        "colab": {
          "base_uri": "https://localhost:8080/"
        },
        "outputId": "e2e3f24e-7d52-4507-9dc2-c8bd3fd7022e"
      },
      "outputs": [
        {
          "output_type": "stream",
          "name": "stdout",
          "text": [
            "Dimensão do Tensor: torch.Size([3, 4])\n",
            "Tipo de dado do Tensor: torch.float32\n",
            "Device em que o Tensor está armazenado: cpu\n"
          ]
        }
      ],
      "source": [
        "# Alguns atributos do tensor\n",
        "tensor = torch.rand(3, 4)\n",
        "\n",
        "print(f\"Dimensão do Tensor: {tensor.shape}\")\n",
        "print(f\"Tipo de dado do Tensor: {tensor.dtype}\")\n",
        "print(f\"Device em que o Tensor está armazenado: {tensor.device}\")"
      ]
    },
    {
      "cell_type": "markdown",
      "metadata": {
        "id": "A1TMyr3QyoPH"
      },
      "source": [
        "### Operações com Tensores"
      ]
    },
    {
      "cell_type": "code",
      "execution_count": 4,
      "metadata": {
        "id": "4N7PHXWiyoPH",
        "colab": {
          "base_uri": "https://localhost:8080/"
        },
        "outputId": "1472204a-a027-44b6-88fb-20c0b077ab0e"
      },
      "outputs": [
        {
          "output_type": "stream",
          "name": "stdout",
          "text": [
            "Primeira linha: tensor([1., 1., 1., 1.])\n",
            "Primeira coluna: tensor([1., 1., 1., 1.])\n",
            "Última coluna: tensor([1., 1., 1., 1.])\n"
          ]
        },
        {
          "output_type": "execute_result",
          "data": {
            "text/plain": [
              "tensor([[1., 0., 1., 1.],\n",
              "        [1., 0., 1., 1.],\n",
              "        [1., 0., 1., 1.],\n",
              "        [1., 0., 1., 1.]])"
            ]
          },
          "metadata": {},
          "execution_count": 4
        }
      ],
      "source": [
        "# Indexing e Slicing:\n",
        "tensor = torch.ones(4, 4)\n",
        "print(f\"Primeira linha: {tensor[0]}\")\n",
        "print(f\"Primeira coluna: {tensor[:, 0]}\")\n",
        "print(f\"Última coluna: {tensor[..., -1]}\")\n",
        "\n",
        "tensor[:, 1] = 0\n",
        "tensor"
      ]
    },
    {
      "cell_type": "code",
      "execution_count": 5,
      "metadata": {
        "id": "H6hjNrWGyoPI",
        "colab": {
          "base_uri": "https://localhost:8080/"
        },
        "outputId": "8b7d0cdf-f2c8-4db2-f0d2-42316a0ad7a0"
      },
      "outputs": [
        {
          "output_type": "execute_result",
          "data": {
            "text/plain": [
              "tensor([[1., 0., 1., 1., 1., 0., 1., 1., 1., 0., 1., 1.],\n",
              "        [1., 0., 1., 1., 1., 0., 1., 1., 1., 0., 1., 1.],\n",
              "        [1., 0., 1., 1., 1., 0., 1., 1., 1., 0., 1., 1.],\n",
              "        [1., 0., 1., 1., 1., 0., 1., 1., 1., 0., 1., 1.]])"
            ]
          },
          "metadata": {},
          "execution_count": 5
        }
      ],
      "source": [
        "# Concatenação de Tensores:\n",
        "t1 = torch.cat([tensor, tensor, tensor], dim=1)\n",
        "t1"
      ]
    },
    {
      "cell_type": "code",
      "execution_count": 6,
      "metadata": {
        "id": "HWdDVlWjyoPI",
        "colab": {
          "base_uri": "https://localhost:8080/"
        },
        "outputId": "12b95863-fe59-4748-c152-c9764a7dbc59"
      },
      "outputs": [
        {
          "output_type": "stream",
          "name": "stdout",
          "text": [
            "tensor([[0.5368, 0.8708, 0.1021, 0.6222],\n",
            "        [0.0849, 0.1673, 0.0500, 0.2403],\n",
            "        [0.1412, 0.6837, 0.5494, 0.8446]])\n",
            "tensor([[0.6032, 0.8567, 0.3186, 0.9828],\n",
            "        [0.4714, 0.7255, 0.5049, 0.2427],\n",
            "        [0.8336, 0.7162, 0.8807, 0.5329]])\n"
          ]
        }
      ],
      "source": [
        "# Operações aritméticas\n",
        "tensor1 = torch.rand(3, 4)\n",
        "tensor2 = torch.rand_like(tensor1)\n",
        "\n",
        "print(tensor1)\n",
        "print(tensor2)\n"
      ]
    },
    {
      "cell_type": "code",
      "execution_count": 7,
      "metadata": {
        "id": "EQdfOrZByoPI",
        "colab": {
          "base_uri": "https://localhost:8080/"
        },
        "outputId": "496092dd-a865-44d1-a7be-32c628ebb218"
      },
      "outputs": [
        {
          "output_type": "stream",
          "name": "stdout",
          "text": [
            "tensor([[1.1400, 1.7274, 0.4207, 1.6050],\n",
            "        [0.5563, 0.8927, 0.5549, 0.4830],\n",
            "        [0.9748, 1.3999, 1.4302, 1.3775]])\n",
            "tensor([[-0.0664,  0.0141, -0.2165, -0.3607],\n",
            "        [-0.3865, -0.5582, -0.4549, -0.0023],\n",
            "        [-0.6924, -0.0325, -0.3313,  0.3117]])\n"
          ]
        }
      ],
      "source": [
        "# Soma e Subtração (opera elemento a elemento)\n",
        "sum_tensor = tensor1 + tensor2\n",
        "sub_tensor = tensor1 - tensor2\n",
        "\n",
        "print(sum_tensor)\n",
        "print(sub_tensor)"
      ]
    },
    {
      "cell_type": "code",
      "execution_count": 8,
      "metadata": {
        "id": "r5Q-Lzn4yoPI",
        "colab": {
          "base_uri": "https://localhost:8080/"
        },
        "outputId": "81591c91-972c-4a7c-8dd2-ca35ea0b22ac"
      },
      "outputs": [
        {
          "output_type": "stream",
          "name": "stdout",
          "text": [
            "tensor([[0.3238, 0.7459, 0.0325, 0.6115],\n",
            "        [0.0400, 0.1214, 0.0252, 0.0583],\n",
            "        [0.1177, 0.4897, 0.4839, 0.4501]])\n",
            "tensor([[0.8899, 1.0165, 0.3205, 0.6330],\n",
            "        [0.1801, 0.2306, 0.0990, 0.9903],\n",
            "        [0.1694, 0.9547, 0.6239, 1.5849]])\n"
          ]
        }
      ],
      "source": [
        "# Multiplicação e Divisão (opera elemento a elemento)\n",
        "mul_tensor = tensor1 * tensor2  ## ou torch.mul(tensor1, tensor2)\n",
        "div_tensor = tensor1 / tensor2  ## ou torch.div(tensor1, tensor2)\n",
        "\n",
        "print(mul_tensor)\n",
        "print(div_tensor)"
      ]
    },
    {
      "cell_type": "code",
      "execution_count": 9,
      "metadata": {
        "id": "xByE4M2RyoPI",
        "colab": {
          "base_uri": "https://localhost:8080/"
        },
        "outputId": "8df5c9c6-6a57-417f-80a7-ceb9854e65bc"
      },
      "outputs": [
        {
          "output_type": "stream",
          "name": "stdout",
          "text": [
            "Forma 1: tensor([[1.7137, 1.0873, 1.4926],\n",
            "        [0.4467, 0.2450, 0.3627],\n",
            "        [1.6761, 1.0450, 1.5414]])\n",
            "Forma 2: tensor([[1.7137, 1.0873, 1.4926],\n",
            "        [0.4467, 0.2450, 0.3627],\n",
            "        [1.6761, 1.0450, 1.5414]])\n"
          ]
        }
      ],
      "source": [
        "# Multiplicação Matricial sobre os tensores\n",
        "mul_mat_tensor1 = tensor1 @ tensor2.T  # Note: tensor2.T significa a transposição da matriz.\n",
        "mul_mat_tensor2 = torch.matmul(tensor1, tensor2.T)\n",
        "\n",
        "print(f\"Forma 1: {mul_mat_tensor1}\")\n",
        "print(f\"Forma 2: {mul_mat_tensor2}\")"
      ]
    },
    {
      "cell_type": "markdown",
      "metadata": {
        "id": "4MAZ-DJhyoPI"
      },
      "source": [
        "## Datasets e Dataloaders\n",
        "\n",
        "Datasets são os conjuntos de dados utilizado para treinamento dos parametros dos modelos. Dataloaders são a estrutura para treinamento dos modelos no qual será feita a separação de dos *minibatchs*, eleatorização dos dados etc."
      ]
    },
    {
      "cell_type": "code",
      "execution_count": 10,
      "metadata": {
        "id": "v7J8dHgPyoPJ"
      },
      "outputs": [],
      "source": [
        "# Bibliotecas necessárias para essa seção\n",
        "import torch\n",
        "from torch.utils.data import Dataset\n",
        "from torchvision import datasets\n",
        "from torchvision.transforms import ToTensor\n",
        "import matplotlib.pyplot as plt"
      ]
    },
    {
      "cell_type": "markdown",
      "metadata": {
        "id": "Fc-rBXniyoPJ"
      },
      "source": [
        "### Dataset\n",
        "\n",
        "Esse exemplo faz o carregamento do dataset implementado na própria framework. Os dados utilizado aqui é o Fashion-MNIST. Outros datasets já implementados podem ser vistas em [Pytorch Dataset](https://pytorch.org/vision/stable/datasets.html)\n"
      ]
    },
    {
      "cell_type": "code",
      "execution_count": 11,
      "metadata": {
        "id": "EcE4lrz5yoPJ",
        "colab": {
          "base_uri": "https://localhost:8080/"
        },
        "outputId": "f930b2f3-830e-4a86-c015-05da7034b25a"
      },
      "outputs": [
        {
          "output_type": "stream",
          "name": "stdout",
          "text": [
            "Downloading http://fashion-mnist.s3-website.eu-central-1.amazonaws.com/train-images-idx3-ubyte.gz\n",
            "Downloading http://fashion-mnist.s3-website.eu-central-1.amazonaws.com/train-images-idx3-ubyte.gz to data/FashionMNIST/raw/train-images-idx3-ubyte.gz\n"
          ]
        },
        {
          "output_type": "stream",
          "name": "stderr",
          "text": [
            "100%|██████████| 26421880/26421880 [00:02<00:00, 12228863.46it/s]\n"
          ]
        },
        {
          "output_type": "stream",
          "name": "stdout",
          "text": [
            "Extracting data/FashionMNIST/raw/train-images-idx3-ubyte.gz to data/FashionMNIST/raw\n",
            "\n",
            "Downloading http://fashion-mnist.s3-website.eu-central-1.amazonaws.com/train-labels-idx1-ubyte.gz\n",
            "Downloading http://fashion-mnist.s3-website.eu-central-1.amazonaws.com/train-labels-idx1-ubyte.gz to data/FashionMNIST/raw/train-labels-idx1-ubyte.gz\n"
          ]
        },
        {
          "output_type": "stream",
          "name": "stderr",
          "text": [
            "100%|██████████| 29515/29515 [00:00<00:00, 204125.35it/s]\n"
          ]
        },
        {
          "output_type": "stream",
          "name": "stdout",
          "text": [
            "Extracting data/FashionMNIST/raw/train-labels-idx1-ubyte.gz to data/FashionMNIST/raw\n",
            "\n",
            "Downloading http://fashion-mnist.s3-website.eu-central-1.amazonaws.com/t10k-images-idx3-ubyte.gz\n",
            "Downloading http://fashion-mnist.s3-website.eu-central-1.amazonaws.com/t10k-images-idx3-ubyte.gz to data/FashionMNIST/raw/t10k-images-idx3-ubyte.gz\n"
          ]
        },
        {
          "output_type": "stream",
          "name": "stderr",
          "text": [
            "100%|██████████| 4422102/4422102 [00:01<00:00, 3858902.27it/s]\n"
          ]
        },
        {
          "output_type": "stream",
          "name": "stdout",
          "text": [
            "Extracting data/FashionMNIST/raw/t10k-images-idx3-ubyte.gz to data/FashionMNIST/raw\n",
            "\n",
            "Downloading http://fashion-mnist.s3-website.eu-central-1.amazonaws.com/t10k-labels-idx1-ubyte.gz\n",
            "Downloading http://fashion-mnist.s3-website.eu-central-1.amazonaws.com/t10k-labels-idx1-ubyte.gz to data/FashionMNIST/raw/t10k-labels-idx1-ubyte.gz\n"
          ]
        },
        {
          "output_type": "stream",
          "name": "stderr",
          "text": [
            "100%|██████████| 5148/5148 [00:00<00:00, 4170003.28it/s]"
          ]
        },
        {
          "output_type": "stream",
          "name": "stdout",
          "text": [
            "Extracting data/FashionMNIST/raw/t10k-labels-idx1-ubyte.gz to data/FashionMNIST/raw\n",
            "\n"
          ]
        },
        {
          "output_type": "stream",
          "name": "stderr",
          "text": [
            "\n"
          ]
        }
      ],
      "source": [
        "# Carregamento dos dados\n",
        "\n",
        "training_data = datasets.FashionMNIST(\n",
        "    root=\"data\",\n",
        "    train=True,\n",
        "    download=True,\n",
        "    transform=ToTensor()\n",
        ")\n",
        "\n",
        "test_data = datasets.FashionMNIST(\n",
        "    root=\"data\",\n",
        "    train=False,\n",
        "    download=True,\n",
        "    transform=ToTensor()\n",
        ")"
      ]
    },
    {
      "cell_type": "code",
      "execution_count": 12,
      "metadata": {
        "id": "L9FZxdrWyoPJ",
        "colab": {
          "base_uri": "https://localhost:8080/",
          "height": 675
        },
        "outputId": "67b47433-795b-4c20-9509-270ac796e37b"
      },
      "outputs": [
        {
          "output_type": "display_data",
          "data": {
            "text/plain": [
              "<Figure size 800x800 with 9 Axes>"
            ],
            "image/png": "[encoded data removed]"
          },
          "metadata": {}
        }
      ],
      "source": [
        "# Visualização dos datasets\n",
        "labels_map = {\n",
        "    0: \"T-Shirt\",\n",
        "    1: \"Trouser\",\n",
        "    2: \"Pullover\",\n",
        "    3: \"Dress\",\n",
        "    4: \"Coat\",\n",
        "    5: \"Sandal\",\n",
        "    6: \"Shirt\",\n",
        "    7: \"Sneaker\",\n",
        "    8: \"Bag\",\n",
        "    9: \"Ankle Boot\",\n",
        "}\n",
        "figure = plt.figure(figsize=(8, 8))\n",
        "cols, rows = 3, 3\n",
        "for i in range(1, cols * rows + 1):\n",
        "    sample_idx = torch.randint(len(training_data), size=(1,)).item()\n",
        "    img, label = training_data[sample_idx]\n",
        "    figure.add_subplot(rows, cols, i)\n",
        "    plt.title(labels_map[label])\n",
        "    plt.axis(\"off\")\n",
        "    plt.imshow(img.squeeze(), cmap=\"gray\")\n",
        "plt.show()"
      ]
    },
    {
      "cell_type": "markdown",
      "metadata": {
        "id": "L3dm-dCfyoPJ"
      },
      "source": [
        "### Criando um Dataset customizável a partir de seus arquivos.\n",
        "\n",
        "Deve-se utilizar a class implementada no Pytorch (torch.utils.data.Dataset) e implementar três funções: *__init__*, *__len__* e *__getitem__*"
      ]
    },
    {
      "cell_type": "code",
      "execution_count": 13,
      "metadata": {
        "id": "Qc2-h3RXyoPJ"
      },
      "outputs": [],
      "source": [
        "# Exemplo de um Dataset customizado\n",
        "import os\n",
        "import pandas as pd\n",
        "from torchvision.io import read_image\n",
        "\n",
        "class CustomImageDataset(Dataset):\n",
        "    def __init__(self, annotations_file, img_dir, transform=None, target_transform=None):\n",
        "        self.img_labels = pd.read_csv(annotations_file)\n",
        "        self.img_dir = img_dir\n",
        "        self.transform = transform\n",
        "        self.target_transform = target_transform\n",
        "\n",
        "    def __len__(self):\n",
        "        return len(self.img_labels)\n",
        "\n",
        "    def __getitem__(self, idx):\n",
        "        img_path = os.path.join(self.img_dir, self.img_labels.iloc[idx, 0])\n",
        "        image = read_image(img_path)\n",
        "        label = self.img_labels.iloc[idx, 1]\n",
        "        if self.transform:\n",
        "            image = self.transform(image)\n",
        "        if self.target_transform:\n",
        "            label = self.target_transform(label)\n",
        "        return image, label\n"
      ]
    },
    {
      "cell_type": "markdown",
      "metadata": {
        "id": "rSdnvAQpyoPJ"
      },
      "source": [
        "### Preparação dos dados para treinamento.\n",
        "\n",
        "Após os datasets serem construídos, o próximo passo é montar o *dataloader*. No exemplo a seguir, utiliza-se a classe do Pytorch *torch.utils.data.DataLoader*.\n"
      ]
    },
    {
      "cell_type": "code",
      "execution_count": 14,
      "metadata": {
        "id": "ZLYJ-fCKyoPK"
      },
      "outputs": [],
      "source": [
        "# Construção dos dataloaders.\n",
        "from torch.utils.data import DataLoader\n",
        "\n",
        "train_dataloader = DataLoader(training_data, batch_size=64, shuffle=True)\n",
        "test_dataloader = DataLoader(test_data, batch_size=64, shuffle=True)\n"
      ]
    },
    {
      "cell_type": "markdown",
      "metadata": {
        "id": "pxVFrzxHyoPK"
      },
      "source": [
        "### Iterando sobre o DataLoader."
      ]
    },
    {
      "cell_type": "code",
      "execution_count": 15,
      "metadata": {
        "id": "EnE96VJ1yoPK",
        "colab": {
          "base_uri": "https://localhost:8080/",
          "height": 482
        },
        "outputId": "309d8cb4-d1bd-45f7-e282-be2e2b4b21ca"
      },
      "outputs": [
        {
          "output_type": "stream",
          "name": "stdout",
          "text": [
            "Feature batch shape: torch.Size([64, 1, 28, 28])\n",
            "Labels batch shape: torch.Size([64])\n"
          ]
        },
        {
          "output_type": "display_data",
          "data": {
            "text/plain": [
              "<Figure size 640x480 with 1 Axes>"
            ],
            "image/png": "[encoded data removed]"
          },
          "metadata": {}
        },
        {
          "output_type": "stream",
          "name": "stdout",
          "text": [
            "Label: 7\n"
          ]
        }
      ],
      "source": [
        "# Display image and label.\n",
        "train_features, train_labels = next(iter(train_dataloader))\n",
        "print(f\"Feature batch shape: {train_features.size()}\")\n",
        "print(f\"Labels batch shape: {train_labels.size()}\")\n",
        "img = train_features[0].squeeze()\n",
        "label = train_labels[0]\n",
        "plt.imshow(img, cmap=\"gray\")\n",
        "plt.show()\n",
        "print(f\"Label: {label}\")"
      ]
    },
    {
      "cell_type": "markdown",
      "metadata": {
        "id": "MeWxrDF3yoPK"
      },
      "source": [
        "## Construindo a Rede Neural\n",
        "\n",
        "Esta seção sera descrito a construção das redes neurais, como camadas e blocos. Os blocos imploementados podem ser vistos em [torch.nn](https://pytorch.org/docs/stable/nn.html), todas sendo subclasses do [nn.Module](https://pytorch.org/docs/stable/generated/torch.nn.Module.html)"
      ]
    },
    {
      "cell_type": "code",
      "source": [
        "import os\n",
        "import torch\n",
        "from torch import nn\n",
        "from torch.utils.data import DataLoader\n",
        "from torchvision import datasets, transforms"
      ],
      "metadata": {
        "id": "PqW7xkLPzIPE"
      },
      "execution_count": 16,
      "outputs": []
    },
    {
      "cell_type": "markdown",
      "metadata": {
        "id": "Cy9gw_ZNyoPK"
      },
      "source": [
        "### Utilização do dispositivo de treinamento\n",
        "\n",
        "Deve-se utilizar para treinar os modelos *hardwares* que acelerem, como GPU ou MPS, caso ,ão possua, utilize a própria CPU."
      ]
    },
    {
      "cell_type": "code",
      "execution_count": 17,
      "metadata": {
        "id": "OflLRxsvyoPK",
        "colab": {
          "base_uri": "https://localhost:8080/"
        },
        "outputId": "a4f6aa21-4bfc-4156-cdb0-0a7dd009ab0d"
      },
      "outputs": [
        {
          "output_type": "stream",
          "name": "stdout",
          "text": [
            "Using cuda device\n"
          ]
        }
      ],
      "source": [
        "# Identificando o dispositivo disponível para treino.\n",
        "device = (\n",
        "    \"cuda\"\n",
        "    if torch.cuda.is_available()\n",
        "    else \"mps\"\n",
        "    if torch.backends.mps.is_available()\n",
        "    else \"cpu\"\n",
        ")\n",
        "print(f\"Using {device} device\")"
      ]
    },
    {
      "cell_type": "markdown",
      "metadata": {
        "id": "4iEUouO8yoPK"
      },
      "source": [
        "### Definição da Classe\n",
        "\n",
        "A classe que será a rede neural proposta deve ser uma subclasse de nn.Module e inicializa-se as camadas da rede a partir da função *__init__*. Após isso, deve ser implementada o método *forward*."
      ]
    },
    {
      "cell_type": "code",
      "execution_count": 18,
      "metadata": {
        "id": "QKYHUt_cyoPK"
      },
      "outputs": [],
      "source": [
        "class NeuralNetwork(nn.Module):\n",
        "    def __init__(self):\n",
        "        super().__init__()\n",
        "        self.flatten = nn.Flatten()\n",
        "        self.linear_relu_stack = nn.Sequential(\n",
        "            nn.Linear(28*28, 512),\n",
        "            nn.ReLU(),\n",
        "            nn.Linear(512, 512),\n",
        "            nn.ReLU(),\n",
        "            nn.Linear(512, 10),\n",
        "        )\n",
        "\n",
        "    def forward(self, x):\n",
        "        x = self.flatten(x)\n",
        "        logits = self.linear_relu_stack(x)\n",
        "        return logits"
      ]
    },
    {
      "cell_type": "code",
      "execution_count": 19,
      "metadata": {
        "id": "VXG6hqBbyoPK",
        "colab": {
          "base_uri": "https://localhost:8080/"
        },
        "outputId": "41510705-943a-4fd5-ac10-e67fed2c35c9"
      },
      "outputs": [
        {
          "output_type": "stream",
          "name": "stdout",
          "text": [
            "NeuralNetwork(\n",
            "  (flatten): Flatten(start_dim=1, end_dim=-1)\n",
            "  (linear_relu_stack): Sequential(\n",
            "    (0): Linear(in_features=784, out_features=512, bias=True)\n",
            "    (1): ReLU()\n",
            "    (2): Linear(in_features=512, out_features=512, bias=True)\n",
            "    (3): ReLU()\n",
            "    (4): Linear(in_features=512, out_features=10, bias=True)\n",
            "  )\n",
            ")\n"
          ]
        }
      ],
      "source": [
        "# Transferindo a rede neural para o dispositivo disponível.\n",
        "model = NeuralNetwork().to(device)\n",
        "print(model)"
      ]
    },
    {
      "cell_type": "code",
      "execution_count": 20,
      "metadata": {
        "id": "asp4BDoDyoPL",
        "colab": {
          "base_uri": "https://localhost:8080/"
        },
        "outputId": "cc87eeab-9374-4870-ca69-20aa38bf01dc"
      },
      "outputs": [
        {
          "output_type": "stream",
          "name": "stdout",
          "text": [
            "Predicted class: tensor([6], device='cuda:0')\n"
          ]
        }
      ],
      "source": [
        "# Exemplo do forward implementado\n",
        "X = torch.rand(1, 28, 28, device=device)\n",
        "logits = model(X)\n",
        "pred_probab = nn.Softmax(dim=1)(logits)\n",
        "y_pred = pred_probab.argmax(1)\n",
        "print(f\"Predicted class: {y_pred}\")"
      ]
    },
    {
      "cell_type": "markdown",
      "metadata": {
        "id": "-Qq-xvMXyoPL"
      },
      "source": [
        "### Camadas do modelo\n",
        "\n",
        "Utilizando uma imagem colorida, com entradas RGB, tem-se que as imagens tem a seguinte dimensão: 3x28x28 (CxHxW), no qual C é o número de canais, H a altura da imagem e W a largura da imagem."
      ]
    },
    {
      "cell_type": "code",
      "execution_count": 21,
      "metadata": {
        "id": "SHC0Pok2yoPL",
        "colab": {
          "base_uri": "https://localhost:8080/"
        },
        "outputId": "fc95d8ce-9fae-4b27-8808-030701ffeee7"
      },
      "outputs": [
        {
          "output_type": "stream",
          "name": "stdout",
          "text": [
            "torch.Size([3, 28, 28])\n"
          ]
        }
      ],
      "source": [
        "# Exemplo de uma imagem com entrada RGB\n",
        "input_image = torch.rand(3,28,28)\n",
        "print(input_image.size())"
      ]
    },
    {
      "cell_type": "code",
      "execution_count": 22,
      "metadata": {
        "id": "daEg_yjMyoPL",
        "colab": {
          "base_uri": "https://localhost:8080/"
        },
        "outputId": "8e5f7f97-c7b5-4a21-b9b2-e92bdd4027a5"
      },
      "outputs": [
        {
          "output_type": "stream",
          "name": "stdout",
          "text": [
            "torch.Size([3, 784])\n"
          ]
        }
      ],
      "source": [
        "# Flatten: Converte a imagem 28x28 para um array contínuo de 784 pixels.\n",
        "flatten = nn.Flatten()\n",
        "flat_image = flatten(input_image)\n",
        "print(flat_image.size())"
      ]
    },
    {
      "cell_type": "code",
      "execution_count": 23,
      "metadata": {
        "id": "RLUaNi3byoPL",
        "colab": {
          "base_uri": "https://localhost:8080/"
        },
        "outputId": "ae6a03c8-7d4d-4184-b6ef-fa3b142f74cb"
      },
      "outputs": [
        {
          "output_type": "stream",
          "name": "stdout",
          "text": [
            "torch.Size([3, 20])\n"
          ]
        }
      ],
      "source": [
        "# nn.Linear é a camada totalmente conectada, no qual aplica a transformação linear, armazenando peso e bias.\n",
        "layer1 = nn.Linear(in_features=28*28, out_features=20)\n",
        "hidden1 = layer1(flat_image)\n",
        "print(hidden1.size())"
      ]
    },
    {
      "cell_type": "code",
      "execution_count": 24,
      "metadata": {
        "id": "Z7UjYKRHyoPL",
        "colab": {
          "base_uri": "https://localhost:8080/"
        },
        "outputId": "b84be9df-8fe7-4e99-faea-6e5f4fdfa0ae"
      },
      "outputs": [
        {
          "output_type": "stream",
          "name": "stdout",
          "text": [
            "Before ReLU: tensor([[ 0.1436,  0.3165,  0.3147,  0.1701,  0.1114, -0.1879,  0.3238,  0.3498,\n",
            "          0.7599, -0.2912, -0.4448, -0.0470,  0.0236,  0.1132,  0.2041,  0.1580,\n",
            "          0.2839, -0.1214, -0.0516, -0.1594],\n",
            "        [ 0.5291,  0.2873,  0.3048,  0.0076, -0.0967, -0.0914,  0.5185,  0.0815,\n",
            "          0.5553, -0.2925, -0.0463, -0.1771,  0.3018,  0.0141, -0.0927,  0.0621,\n",
            "          0.1355, -0.0958, -0.0391,  0.2582],\n",
            "        [ 0.3037,  0.5097,  0.2503, -0.1488,  0.0596,  0.0542,  0.4611,  0.1446,\n",
            "          0.9404, -0.1071, -0.3035, -0.2966, -0.0564,  0.2503,  0.0550, -0.0550,\n",
            "         -0.0809, -0.3106,  0.1421, -0.1198]], grad_fn=<AddmmBackward0>)\n",
            "\n",
            "\n",
            "After ReLU: tensor([[0.1436, 0.3165, 0.3147, 0.1701, 0.1114, 0.0000, 0.3238, 0.3498, 0.7599,\n",
            "         0.0000, 0.0000, 0.0000, 0.0236, 0.1132, 0.2041, 0.1580, 0.2839, 0.0000,\n",
            "         0.0000, 0.0000],\n",
            "        [0.5291, 0.2873, 0.3048, 0.0076, 0.0000, 0.0000, 0.5185, 0.0815, 0.5553,\n",
            "         0.0000, 0.0000, 0.0000, 0.3018, 0.0141, 0.0000, 0.0621, 0.1355, 0.0000,\n",
            "         0.0000, 0.2582],\n",
            "        [0.3037, 0.5097, 0.2503, 0.0000, 0.0596, 0.0542, 0.4611, 0.1446, 0.9404,\n",
            "         0.0000, 0.0000, 0.0000, 0.0000, 0.2503, 0.0550, 0.0000, 0.0000, 0.0000,\n",
            "         0.1421, 0.0000]], grad_fn=<ReluBackward0>)\n"
          ]
        }
      ],
      "source": [
        "# nn.ReLU, aplica a função de ativação ReLU aos valores de saída da rede.\n",
        "print(f\"Before ReLU: {hidden1}\\n\\n\")\n",
        "hidden1 = nn.ReLU()(hidden1)\n",
        "print(f\"After ReLU: {hidden1}\")"
      ]
    },
    {
      "cell_type": "code",
      "execution_count": 25,
      "metadata": {
        "id": "04tbHu4KyoPP"
      },
      "outputs": [],
      "source": [
        "# nn.Sequencial, é o módulo de no qual agrupa todos os módulos de forma sequencial.\n",
        "seq_modules = nn.Sequential(\n",
        "    flatten,\n",
        "    layer1,\n",
        "    nn.ReLU(),\n",
        "    nn.Linear(20, 10)\n",
        ")\n",
        "input_image = torch.rand(3,28,28)\n",
        "logits = seq_modules(input_image)"
      ]
    },
    {
      "cell_type": "code",
      "execution_count": 26,
      "metadata": {
        "id": "lzwsRwkWyoPQ"
      },
      "outputs": [],
      "source": [
        "# Softmax transforma os valores no intervalo (-inf, +inf) para escala [0, 1], representando a probablidade de cada classe e soma igual a 1.\n",
        "softmax = nn.Softmax(dim=1)\n",
        "pred_probab = softmax(logits)"
      ]
    },
    {
      "cell_type": "code",
      "execution_count": 27,
      "metadata": {
        "id": "v7O6ozDoyoPQ",
        "colab": {
          "base_uri": "https://localhost:8080/"
        },
        "outputId": "404df00e-dc48-448f-be67-65f668b38665"
      },
      "outputs": [
        {
          "output_type": "stream",
          "name": "stdout",
          "text": [
            "Model structure: NeuralNetwork(\n",
            "  (flatten): Flatten(start_dim=1, end_dim=-1)\n",
            "  (linear_relu_stack): Sequential(\n",
            "    (0): Linear(in_features=784, out_features=512, bias=True)\n",
            "    (1): ReLU()\n",
            "    (2): Linear(in_features=512, out_features=512, bias=True)\n",
            "    (3): ReLU()\n",
            "    (4): Linear(in_features=512, out_features=10, bias=True)\n",
            "  )\n",
            ")\n",
            "\n",
            "\n",
            "Layer: linear_relu_stack.0.weight | Size: torch.Size([512, 784]) | Values : tensor([[ 0.0301,  0.0122,  0.0139,  ...,  0.0254,  0.0116, -0.0090],\n",
            "        [ 0.0220,  0.0042,  0.0316,  ..., -0.0119, -0.0020, -0.0247]],\n",
            "       device='cuda:0', grad_fn=<SliceBackward0>) \n",
            "\n",
            "Layer: linear_relu_stack.0.bias | Size: torch.Size([512]) | Values : tensor([-0.0046,  0.0065], device='cuda:0', grad_fn=<SliceBackward0>) \n",
            "\n",
            "Layer: linear_relu_stack.2.weight | Size: torch.Size([512, 512]) | Values : tensor([[-0.0165,  0.0076, -0.0348,  ..., -0.0435, -0.0100, -0.0077],\n",
            "        [ 0.0132, -0.0429,  0.0126,  ..., -0.0003, -0.0194, -0.0253]],\n",
            "       device='cuda:0', grad_fn=<SliceBackward0>) \n",
            "\n",
            "Layer: linear_relu_stack.2.bias | Size: torch.Size([512]) | Values : tensor([0.0294, 0.0134], device='cuda:0', grad_fn=<SliceBackward0>) \n",
            "\n",
            "Layer: linear_relu_stack.4.weight | Size: torch.Size([10, 512]) | Values : tensor([[-0.0264, -0.0072, -0.0030,  ...,  0.0096, -0.0317,  0.0049],\n",
            "        [-0.0114,  0.0322,  0.0085,  ...,  0.0108, -0.0293, -0.0208]],\n",
            "       device='cuda:0', grad_fn=<SliceBackward0>) \n",
            "\n",
            "Layer: linear_relu_stack.4.bias | Size: torch.Size([10]) | Values : tensor([-0.0022,  0.0232], device='cuda:0', grad_fn=<SliceBackward0>) \n",
            "\n"
          ]
        }
      ],
      "source": [
        "# Representando os parâmetros dos modelos.\n",
        "print(f\"Model structure: {model}\\n\\n\")\n",
        "\n",
        "for name, param in model.named_parameters():\n",
        "    print(f\"Layer: {name} | Size: {param.size()} | Values : {param[:2]} \\n\")"
      ]
    },
    {
      "cell_type": "markdown",
      "metadata": {
        "id": "d8XeSkUiyoPQ"
      },
      "source": [
        "## Autograd\n",
        "\n",
        "Ao treinar as redes neurais, os algoritmos de retropropagação (bachpropagation) são utilizados para ajustar os parâmetros dos modelos de acordo com os gradientes da função de perda.\n",
        "\n",
        "Para computar os gradientes, o Pytorch possui uma ferramenta chamada torch.autograd, no qual computa os gradientes de qualquer gráfico computacional. O exemplo a seguir mostra a saída dos gradientes."
      ]
    },
    {
      "cell_type": "code",
      "execution_count": 28,
      "metadata": {
        "id": "3iSceGZFyoPQ"
      },
      "outputs": [],
      "source": [
        "import torch\n",
        "\n",
        "x = torch.ones(5)  # Tensor de entrada\n",
        "y = torch.zeros(3)  # Saída esperada\n",
        "w = torch.randn(5, 3, requires_grad=True) # Perceptron com 5 entradas e 3 saídas\n",
        "b = torch.randn(3, requires_grad=True)\n",
        "z = torch.matmul(x, w)+b\n",
        "loss = torch.nn.functional.binary_cross_entropy_with_logits(z, y)"
      ]
    },
    {
      "cell_type": "code",
      "execution_count": 29,
      "metadata": {
        "id": "S7xXJy3nyoPQ",
        "colab": {
          "base_uri": "https://localhost:8080/"
        },
        "outputId": "ebf66dfe-3e99-41d7-9248-62771cb10b07"
      },
      "outputs": [
        {
          "output_type": "stream",
          "name": "stdout",
          "text": [
            "Gradient function for z = <AddBackward0 object at 0x7d8119edf4c0>\n",
            "Gradient function for loss = <BinaryCrossEntropyWithLogitsBackward0 object at 0x7d8119edd6f0>\n"
          ]
        }
      ],
      "source": [
        "print(f\"Gradient function for z = {z.grad_fn}\")\n",
        "print(f\"Gradient function for loss = {loss.grad_fn}\")"
      ]
    },
    {
      "cell_type": "code",
      "execution_count": 30,
      "metadata": {
        "id": "pdvpWvQbyoPQ",
        "colab": {
          "base_uri": "https://localhost:8080/"
        },
        "outputId": "095c6a14-b007-437d-8ffc-1ff457a1150b"
      },
      "outputs": [
        {
          "output_type": "stream",
          "name": "stdout",
          "text": [
            "tensor([[0.2820, 0.0419, 0.0540],\n",
            "        [0.2820, 0.0419, 0.0540],\n",
            "        [0.2820, 0.0419, 0.0540],\n",
            "        [0.2820, 0.0419, 0.0540],\n",
            "        [0.2820, 0.0419, 0.0540]])\n",
            "tensor([0.2820, 0.0419, 0.0540])\n"
          ]
        }
      ],
      "source": [
        "# Computando os gradientes\n",
        "loss.backward()\n",
        "print(w.grad)\n",
        "print(b.grad)"
      ]
    },
    {
      "cell_type": "markdown",
      "metadata": {
        "id": "g3XfSjJFyoPQ"
      },
      "source": [
        "## Treinamento do modelo\n",
        "\n",
        "Entendido os passos descritos anteriormente, agora deve-se treinar o modelo para ajustar os parâmetros e minimizar o erro associado as previsões.\n",
        "\n",
        "Recaptulando os códigos descritos anteriormente, temos:\n",
        "- O dataset que será utilizado, no caso Fashion MNIST;\n",
        "- O dataloader que fará os *minibatchs*\n",
        "- O modelo da rede neural"
      ]
    },
    {
      "cell_type": "code",
      "execution_count": 31,
      "metadata": {
        "id": "2OAM-BSYyoPQ"
      },
      "outputs": [],
      "source": [
        "import torch\n",
        "from torch import nn\n",
        "from torch.utils.data import DataLoader\n",
        "from torchvision import datasets\n",
        "from torchvision.transforms import ToTensor\n",
        "\n",
        "training_data = datasets.FashionMNIST(\n",
        "    root=\"data\",\n",
        "    train=True,\n",
        "    download=True,\n",
        "    transform=ToTensor()\n",
        ")\n",
        "\n",
        "test_data = datasets.FashionMNIST(\n",
        "    root=\"data\",\n",
        "    train=False,\n",
        "    download=True,\n",
        "    transform=ToTensor()\n",
        ")\n",
        "\n",
        "train_dataloader = DataLoader(training_data, batch_size=64)\n",
        "test_dataloader = DataLoader(test_data, batch_size=64)\n",
        "\n",
        "class NeuralNetwork(nn.Module):\n",
        "    def __init__(self):\n",
        "        super().__init__()\n",
        "        self.flatten = nn.Flatten()\n",
        "        self.linear_relu_stack = nn.Sequential(\n",
        "            nn.Linear(28*28, 512),\n",
        "            nn.ReLU(),\n",
        "            nn.Linear(512, 512),\n",
        "            nn.ReLU(),\n",
        "            nn.Linear(512, 10),\n",
        "        )\n",
        "\n",
        "    def forward(self, x):\n",
        "        x = self.flatten(x)\n",
        "        logits = self.linear_relu_stack(x)\n",
        "        return logits\n",
        "\n",
        "model = NeuralNetwork()"
      ]
    },
    {
      "cell_type": "markdown",
      "metadata": {
        "id": "FqbC1e7IyoPR"
      },
      "source": [
        "### Hiperparametros\n",
        "- **Number of Epochs** - Número de vezes que será iterado pelo dataset.\n",
        "- **Batch Size** - Número de dados utilizados em cada propagação da rede neural;\n",
        "- **Learning Rate** - Fator de aprendizado dos parâmetros dos modelos"
      ]
    },
    {
      "cell_type": "code",
      "execution_count": 32,
      "metadata": {
        "id": "TSqa5tQfyoPR"
      },
      "outputs": [],
      "source": [
        "learning_rate = 1e-3\n",
        "batch_size = 64\n",
        "epochs = 5"
      ]
    },
    {
      "cell_type": "markdown",
      "metadata": {
        "id": "idW8dRYMyoPR"
      },
      "source": [
        "### Treinamento\n",
        "\n",
        "Itera sobre os dados para convergir os parâmetros do modelo."
      ]
    },
    {
      "cell_type": "code",
      "execution_count": 33,
      "metadata": {
        "id": "jrY03wXCyoPR"
      },
      "outputs": [],
      "source": [
        "def train_loop(dataloader, model, loss_fn, optimizer):\n",
        "    size = len(dataloader.dataset)\n",
        "    # Define o modelo para o modo de treinamento.\n",
        "    model.train()\n",
        "    for batch, (X, y) in enumerate(dataloader):\n",
        "        # Computa as previsões e a perda\n",
        "        pred = model(X)\n",
        "        loss = loss_fn(pred, y)\n",
        "\n",
        "        # Backpropagation\n",
        "        loss.backward()\n",
        "        optimizer.step()\n",
        "        optimizer.zero_grad()\n",
        "\n",
        "        if batch % 100 == 0:\n",
        "            loss, current = loss.item(), (batch + 1) * len(X)\n",
        "            print(f\"loss: {loss:>7f}  [{current:>5d}/{size:>5d}]\")\n"
      ]
    },
    {
      "cell_type": "markdown",
      "metadata": {
        "id": "wmvsimZryoPR"
      },
      "source": [
        "### Validação/Teste\n",
        "\n",
        "Itera sobre o dataset para avaliar o desempenho do modelo."
      ]
    },
    {
      "cell_type": "code",
      "execution_count": 34,
      "metadata": {
        "id": "SHkyDD_gyoPR"
      },
      "outputs": [],
      "source": [
        "def test_loop(dataloader, model, loss_fn):\n",
        "    # Define o modelo para o modo de avaliação.\n",
        "    model.eval()\n",
        "    size = len(dataloader.dataset)\n",
        "    num_batches = len(dataloader)\n",
        "    test_loss, correct = 0, 0\n",
        "\n",
        "    # Evaluating the model with torch.no_grad() ensures that no gradients are computed during test mode\n",
        "    # also serves to reduce unnecessary gradient computations and memory usage for tensors with requires_grad=True\n",
        "    with torch.no_grad():\n",
        "        for X, y in dataloader:\n",
        "            pred = model(X)\n",
        "            test_loss += loss_fn(pred, y).item()\n",
        "            correct += (pred.argmax(1) == y).type(torch.float).sum().item()\n",
        "\n",
        "    test_loss /= num_batches\n",
        "    correct /= size\n",
        "    print(f\"Test Error: \\n Accuracy: {(100*correct):>0.1f}%, Avg loss: {test_loss:>8f} \\n\")"
      ]
    },
    {
      "cell_type": "markdown",
      "metadata": {
        "id": "DKvN6AqxyoPR"
      },
      "source": [
        "### Função de Perda\n",
        "\n",
        "Função definida para minimizar e, assim, avaliar o desempenho do modelo."
      ]
    },
    {
      "cell_type": "code",
      "execution_count": 35,
      "metadata": {
        "id": "5Ojg2IbVyoPS"
      },
      "outputs": [],
      "source": [
        "# Função escolhida: CrossEntropy\n",
        "loss_fn = nn.CrossEntropyLoss()"
      ]
    },
    {
      "cell_type": "markdown",
      "metadata": {
        "id": "masw9eemyoPS"
      },
      "source": [
        "### Otimizadores\n",
        "\n",
        "Processo de ajuste do modelo para reduzir o erro para cada passo do treino."
      ]
    },
    {
      "cell_type": "code",
      "execution_count": 36,
      "metadata": {
        "id": "ODN6qcR8yoPS"
      },
      "outputs": [],
      "source": [
        "optimizer = torch.optim.SGD(model.parameters(), lr=learning_rate)"
      ]
    },
    {
      "cell_type": "markdown",
      "metadata": {
        "id": "Ha0MG9LHyoPS"
      },
      "source": [
        "### Treinamento\n",
        "\n",
        "Agrupando todos os passos, temos:"
      ]
    },
    {
      "cell_type": "code",
      "execution_count": 37,
      "metadata": {
        "id": "-GQUEAd6yoPS",
        "colab": {
          "base_uri": "https://localhost:8080/"
        },
        "outputId": "f912ac9d-2dfc-4b91-c7d8-4863bbbd6c85"
      },
      "outputs": [
        {
          "output_type": "stream",
          "name": "stdout",
          "text": [
            "Epoch 1\n",
            "-------------------------------\n",
            "loss: 2.303240  [   64/60000]\n",
            "loss: 2.290910  [ 6464/60000]\n",
            "loss: 2.266094  [12864/60000]\n",
            "loss: 2.259184  [19264/60000]\n",
            "loss: 2.243848  [25664/60000]\n",
            "loss: 2.216823  [32064/60000]\n",
            "loss: 2.217419  [38464/60000]\n",
            "loss: 2.180775  [44864/60000]\n",
            "loss: 2.174345  [51264/60000]\n",
            "loss: 2.151219  [57664/60000]\n",
            "Test Error: \n",
            " Accuracy: 47.2%, Avg loss: 2.140097 \n",
            "\n",
            "Epoch 2\n",
            "-------------------------------\n",
            "loss: 2.155178  [   64/60000]\n",
            "loss: 2.145988  [ 6464/60000]\n",
            "loss: 2.072238  [12864/60000]\n",
            "loss: 2.091375  [19264/60000]\n",
            "loss: 2.047494  [25664/60000]\n",
            "loss: 1.984908  [32064/60000]\n",
            "loss: 2.009392  [38464/60000]\n",
            "loss: 1.925773  [44864/60000]\n",
            "loss: 1.929046  [51264/60000]\n",
            "loss: 1.864569  [57664/60000]\n",
            "Test Error: \n",
            " Accuracy: 58.1%, Avg loss: 1.857812 \n",
            "\n",
            "Epoch 3\n",
            "-------------------------------\n",
            "loss: 1.902089  [   64/60000]\n",
            "loss: 1.873575  [ 6464/60000]\n",
            "loss: 1.733999  [12864/60000]\n",
            "loss: 1.778149  [19264/60000]\n",
            "loss: 1.680014  [25664/60000]\n",
            "loss: 1.632823  [32064/60000]\n",
            "loss: 1.645348  [38464/60000]\n",
            "loss: 1.548530  [44864/60000]\n",
            "loss: 1.575868  [51264/60000]\n",
            "loss: 1.473647  [57664/60000]\n",
            "Test Error: \n",
            " Accuracy: 60.2%, Avg loss: 1.491016 \n",
            "\n",
            "Epoch 4\n",
            "-------------------------------\n",
            "loss: 1.570226  [   64/60000]\n",
            "loss: 1.538425  [ 6464/60000]\n",
            "loss: 1.368080  [12864/60000]\n",
            "loss: 1.447395  [19264/60000]\n",
            "loss: 1.329440  [25664/60000]\n",
            "loss: 1.332697  [32064/60000]\n",
            "loss: 1.336332  [38464/60000]\n",
            "loss: 1.264529  [44864/60000]\n",
            "loss: 1.307497  [51264/60000]\n",
            "loss: 1.210678  [57664/60000]\n",
            "Test Error: \n",
            " Accuracy: 62.4%, Avg loss: 1.235429 \n",
            "\n",
            "Epoch 5\n",
            "-------------------------------\n",
            "loss: 1.321519  [   64/60000]\n",
            "loss: 1.308234  [ 6464/60000]\n",
            "loss: 1.122760  [12864/60000]\n",
            "loss: 1.237739  [19264/60000]\n",
            "loss: 1.106776  [25664/60000]\n",
            "loss: 1.141872  [32064/60000]\n",
            "loss: 1.151334  [38464/60000]\n",
            "loss: 1.094027  [44864/60000]\n",
            "loss: 1.141753  [51264/60000]\n",
            "loss: 1.060304  [57664/60000]\n",
            "Test Error: \n",
            " Accuracy: 64.3%, Avg loss: 1.078800 \n",
            "\n",
            "Epoch 6\n",
            "-------------------------------\n",
            "loss: 1.155785  [   64/60000]\n",
            "loss: 1.165356  [ 6464/60000]\n",
            "loss: 0.962707  [12864/60000]\n",
            "loss: 1.106473  [19264/60000]\n",
            "loss: 0.970907  [25664/60000]\n",
            "loss: 1.013435  [32064/60000]\n",
            "loss: 1.038387  [38464/60000]\n",
            "loss: 0.987722  [44864/60000]\n",
            "loss: 1.033625  [51264/60000]\n",
            "loss: 0.966404  [57664/60000]\n",
            "Test Error: \n",
            " Accuracy: 65.9%, Avg loss: 0.977536 \n",
            "\n",
            "Epoch 7\n",
            "-------------------------------\n",
            "loss: 1.039496  [   64/60000]\n",
            "loss: 1.072214  [ 6464/60000]\n",
            "loss: 0.852868  [12864/60000]\n",
            "loss: 1.018266  [19264/60000]\n",
            "loss: 0.885060  [25664/60000]\n",
            "loss: 0.922067  [32064/60000]\n",
            "loss: 0.964323  [38464/60000]\n",
            "loss: 0.919024  [44864/60000]\n",
            "loss: 0.958598  [51264/60000]\n",
            "loss: 0.902453  [57664/60000]\n",
            "Test Error: \n",
            " Accuracy: 67.2%, Avg loss: 0.907792 \n",
            "\n",
            "Epoch 8\n",
            "-------------------------------\n",
            "loss: 0.953662  [   64/60000]\n",
            "loss: 1.006334  [ 6464/60000]\n",
            "loss: 0.773731  [12864/60000]\n",
            "loss: 0.954967  [19264/60000]\n",
            "loss: 0.827004  [25664/60000]\n",
            "loss: 0.853996  [32064/60000]\n",
            "loss: 0.911724  [38464/60000]\n",
            "loss: 0.872624  [44864/60000]\n",
            "loss: 0.903996  [51264/60000]\n",
            "loss: 0.855413  [57664/60000]\n",
            "Test Error: \n",
            " Accuracy: 68.2%, Avg loss: 0.856887 \n",
            "\n",
            "Epoch 9\n",
            "-------------------------------\n",
            "loss: 0.887608  [   64/60000]\n",
            "loss: 0.955968  [ 6464/60000]\n",
            "loss: 0.714043  [12864/60000]\n",
            "loss: 0.907079  [19264/60000]\n",
            "loss: 0.784837  [25664/60000]\n",
            "loss: 0.802054  [32064/60000]\n",
            "loss: 0.871453  [38464/60000]\n",
            "loss: 0.839682  [44864/60000]\n",
            "loss: 0.862377  [51264/60000]\n",
            "loss: 0.818836  [57664/60000]\n",
            "Test Error: \n",
            " Accuracy: 69.7%, Avg loss: 0.817745 \n",
            "\n",
            "Epoch 10\n",
            "-------------------------------\n",
            "loss: 0.834516  [   64/60000]\n",
            "loss: 0.915062  [ 6464/60000]\n",
            "loss: 0.666958  [12864/60000]\n",
            "loss: 0.869431  [19264/60000]\n",
            "loss: 0.752203  [25664/60000]\n",
            "loss: 0.761419  [32064/60000]\n",
            "loss: 0.838667  [38464/60000]\n",
            "loss: 0.814996  [44864/60000]\n",
            "loss: 0.829762  [51264/60000]\n",
            "loss: 0.788964  [57664/60000]\n",
            "Test Error: \n",
            " Accuracy: 70.9%, Avg loss: 0.786377 \n",
            "\n",
            "Fim!\n"
          ]
        }
      ],
      "source": [
        "epochs = 10\n",
        "for t in range(epochs):\n",
        "    print(f\"Epoch {t+1}\\n-------------------------------\")\n",
        "    train_loop(train_dataloader, model, loss_fn, optimizer)\n",
        "    test_loop(test_dataloader, model, loss_fn)\n",
        "print(\"Fim!\")"
      ]
    },
    {
      "cell_type": "markdown",
      "metadata": {
        "id": "PSto3oO-yoPS"
      },
      "source": [
        "## Salvar e Carregar os pesos dos modelos\n",
        "\n",
        "Nesta seção será descrita o salvamento de carregamento do modelo desejado."
      ]
    },
    {
      "cell_type": "code",
      "execution_count": 38,
      "metadata": {
        "id": "ED7uPRqwyoPS"
      },
      "outputs": [],
      "source": [
        "import torch\n",
        "import torchvision.models as models"
      ]
    },
    {
      "cell_type": "code",
      "execution_count": 39,
      "metadata": {
        "id": "J6rCGfcpyoPS",
        "colab": {
          "base_uri": "https://localhost:8080/"
        },
        "outputId": "b2af54f4-a05b-4d4a-9eed-5d249343a30a"
      },
      "outputs": [
        {
          "output_type": "stream",
          "name": "stderr",
          "text": [
            "Downloading: \"https://download.pytorch.org/models/vgg16-397923af.pth\" to /root/.cache/torch/hub/checkpoints/vgg16-397923af.pth\n",
            "100%|██████████| 528M/528M [00:06<00:00, 83.2MB/s]\n"
          ]
        }
      ],
      "source": [
        "# Carregando pesos pré-treinados:\n",
        "model = models.vgg16(weights='IMAGENET1K_V1')\n",
        "torch.save(model.state_dict(), 'model_weights.pth')  # Salvando o modelo na máquina"
      ]
    },
    {
      "cell_type": "code",
      "execution_count": 40,
      "metadata": {
        "id": "A_-XHpp4yoPS",
        "colab": {
          "base_uri": "https://localhost:8080/"
        },
        "outputId": "a6f24e3d-d086-46e5-f82a-459fc9c9fe9c"
      },
      "outputs": [
        {
          "output_type": "execute_result",
          "data": {
            "text/plain": [
              "VGG(\n",
              "  (features): Sequential(\n",
              "    (0): Conv2d(3, 64, kernel_size=(3, 3), stride=(1, 1), padding=(1, 1))\n",
              "    (1): ReLU(inplace=True)\n",
              "    (2): Conv2d(64, 64, kernel_size=(3, 3), stride=(1, 1), padding=(1, 1))\n",
              "    (3): ReLU(inplace=True)\n",
              "    (4): MaxPool2d(kernel_size=2, stride=2, padding=0, dilation=1, ceil_mode=False)\n",
              "    (5): Conv2d(64, 128, kernel_size=(3, 3), stride=(1, 1), padding=(1, 1))\n",
              "    (6): ReLU(inplace=True)\n",
              "    (7): Conv2d(128, 128, kernel_size=(3, 3), stride=(1, 1), padding=(1, 1))\n",
              "    (8): ReLU(inplace=True)\n",
              "    (9): MaxPool2d(kernel_size=2, stride=2, padding=0, dilation=1, ceil_mode=False)\n",
              "    (10): Conv2d(128, 256, kernel_size=(3, 3), stride=(1, 1), padding=(1, 1))\n",
              "    (11): ReLU(inplace=True)\n",
              "    (12): Conv2d(256, 256, kernel_size=(3, 3), stride=(1, 1), padding=(1, 1))\n",
              "    (13): ReLU(inplace=True)\n",
              "    (14): Conv2d(256, 256, kernel_size=(3, 3), stride=(1, 1), padding=(1, 1))\n",
              "    (15): ReLU(inplace=True)\n",
              "    (16): MaxPool2d(kernel_size=2, stride=2, padding=0, dilation=1, ceil_mode=False)\n",
              "    (17): Conv2d(256, 512, kernel_size=(3, 3), stride=(1, 1), padding=(1, 1))\n",
              "    (18): ReLU(inplace=True)\n",
              "    (19): Conv2d(512, 512, kernel_size=(3, 3), stride=(1, 1), padding=(1, 1))\n",
              "    (20): ReLU(inplace=True)\n",
              "    (21): Conv2d(512, 512, kernel_size=(3, 3), stride=(1, 1), padding=(1, 1))\n",
              "    (22): ReLU(inplace=True)\n",
              "    (23): MaxPool2d(kernel_size=2, stride=2, padding=0, dilation=1, ceil_mode=False)\n",
              "    (24): Conv2d(512, 512, kernel_size=(3, 3), stride=(1, 1), padding=(1, 1))\n",
              "    (25): ReLU(inplace=True)\n",
              "    (26): Conv2d(512, 512, kernel_size=(3, 3), stride=(1, 1), padding=(1, 1))\n",
              "    (27): ReLU(inplace=True)\n",
              "    (28): Conv2d(512, 512, kernel_size=(3, 3), stride=(1, 1), padding=(1, 1))\n",
              "    (29): ReLU(inplace=True)\n",
              "    (30): MaxPool2d(kernel_size=2, stride=2, padding=0, dilation=1, ceil_mode=False)\n",
              "  )\n",
              "  (avgpool): AdaptiveAvgPool2d(output_size=(7, 7))\n",
              "  (classifier): Sequential(\n",
              "    (0): Linear(in_features=25088, out_features=4096, bias=True)\n",
              "    (1): ReLU(inplace=True)\n",
              "    (2): Dropout(p=0.5, inplace=False)\n",
              "    (3): Linear(in_features=4096, out_features=4096, bias=True)\n",
              "    (4): ReLU(inplace=True)\n",
              "    (5): Dropout(p=0.5, inplace=False)\n",
              "    (6): Linear(in_features=4096, out_features=1000, bias=True)\n",
              "  )\n",
              ")"
            ]
          },
          "metadata": {},
          "execution_count": 40
        }
      ],
      "source": [
        "# Carregando modelo salvo na maquina:\n",
        "model = models.vgg16() # Pesos não especificado\n",
        "model.load_state_dict(torch.load('model_weights.pth'))\n",
        "model.eval()"
      ]
    }
  ],
  "metadata": {
    "kernelspec": {
      "display_name": "Python 3",
      "name": "python3"
    },
    "language_info": {
      "codemirror_mode": {
        "name": "ipython",
        "version": 3
      },
      "file_extension": ".py",
      "mimetype": "text/x-python",
      "name": "python",
      "nbconvert_exporter": "python",
      "pygments_lexer": "ipython3",
      "version": "3.11.4"
    },
    "colab": {
      "provenance": [],
      "gpuType": "T4"
    },
    "accelerator": "GPU"
  },
  "nbformat": 4,
  "nbformat_minor": 0
}