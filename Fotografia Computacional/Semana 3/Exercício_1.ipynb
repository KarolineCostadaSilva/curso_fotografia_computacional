{
  "nbformat": 4,
  "nbformat_minor": 0,
  "metadata": {
    "colab": {
      "provenance": [],
      "authorship_tag": "ABX9TyP3DpsiAqCJ2UwIoq7CI3Zg",
      "include_colab_link": true
    },
    "kernelspec": {
      "name": "python3",
      "display_name": "Python 3"
    },
    "language_info": {
      "name": "python"
    }
  },
  "cells": [
    {
      "cell_type": "markdown",
      "metadata": {
        "id": "view-in-github",
        "colab_type": "text"
      },
      "source": [
        "<a href=\"https://colab.research.google.com/github/KarolineCostadaSilva/curso_fotografia_computacional/blob/main/Semana%203/Exerc%C3%ADcio_1.ipynb\" target=\"_parent\"><img src=\"https://colab.research.google.com/assets/colab-badge.svg\" alt=\"Open In Colab\"/></a>"
      ]
    },
    {
      "cell_type": "markdown",
      "source": [
        "1- Suponha que alguém esteja usando uma luneta com uma distância focal de 200 mm e um AFOV de 5 graus para observar um objeto que possui uma altura de 1,8 metros. Determine a distância do objeto em relação à luneta com base nos dados informados e  assinale a resposta correta abaixo com valor mais próximo:\n",
        "\n",
        "10,3m\n",
        "\n",
        "15,8m\n",
        "\n",
        "20,6m\n",
        "\n",
        "36,5m\n",
        "\n",
        "50,1m"
      ],
      "metadata": {
        "id": "l61fgIF7UWKy"
      }
    },
    {
      "cell_type": "markdown",
      "source": [
        "Para resolver essa questão, podemos usar a relação entre a distância focal da luneta, o ângulo de campo aparente (AFOV) e a altura do objeto observado para encontrar a distância do objeto até a luneta. O ângulo de campo aparente pode ser usado para calcular o ângulo de visão real (TFOV, ou campo de visão total) na distância do objeto, que nos dá a largura (ou altura) do campo de visão a essa distância.\n",
        "\n",
        "A fórmula que relaciona a altura do objeto (ℎ), a distância do objeto (*d*), e o ângulo de visão real (TFOV) é dada por:\n",
        "\n",
        "![image.png](data:image/png;base64,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)\n",
        "\n",
        "O ângulo de campo aparente (AFOV) é o que é percebido pelo observador através da luneta e não se traduz diretamente para o TFOV sem considerar a distância focal da luneta e possivelmente o diâmetro da entrada de luz (não necessário para este cálculo). No entanto, em muitos casos práticos, o AFOV pode ser aproximado ao TFOV para cálculos simples, especialmente se não tivermos informações específicas sobre a ampliação ou se a ampliação não estiver diretamente relacionada.\n",
        "\n",
        "Aqui, o desafio é determinar a distância (*d*) sabendo que ℎ=1.8 metros e o AFOV é 5 graus. Neste caso, podemos reformular a fórmula para resolver *d*:\n",
        "\n",
        "![image.png](data:image/png;base64,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)\n",
        "\n",
        "Assumindo que o AFOV possa ser usado como uma aproximação do TFOV para este cálculo, vamos calcular a distância (*d*) do objeto até a luneta."
      ],
      "metadata": {
        "id": "IlvOWCDlUqHl"
      }
    },
    {
      "cell_type": "code",
      "execution_count": 1,
      "metadata": {
        "colab": {
          "base_uri": "https://localhost:8080/"
        },
        "id": "ZW3GDiMPUQEk",
        "outputId": "fb9fc429-3656-432b-a6ca-5de30d866d4b"
      },
      "outputs": [
        {
          "output_type": "execute_result",
          "data": {
            "text/plain": [
              "20.61338899358808"
            ]
          },
          "metadata": {},
          "execution_count": 1
        }
      ],
      "source": [
        "from math import tan, radians\n",
        "\n",
        "# Dados fornecidos\n",
        "altura_objeto = 1.8  # metros\n",
        "AFOV = 5  # graus\n",
        "\n",
        "# Convertendo AFOV para radianos e calculando a distância\n",
        "TFOV_rad = radians(AFOV)\n",
        "distancia_objeto = altura_objeto / (2 * tan(TFOV_rad / 2))\n",
        "\n",
        "distancia_objeto\n"
      ]
    },
    {
      "cell_type": "markdown",
      "source": [
        "---"
      ],
      "metadata": {
        "id": "TPEpDD0GUo3F"
      }
    },
    {
      "cell_type": "markdown",
      "source": [
        "Considere o caso de  uma lente esférica convergente com uma distância focal de 15 cm. Um objeto é posicionado a uma distância de 10 cm do centro óptico da lente. Use a equação de lente e responda qual das alternativas descreve corretamente a distância (módulo da posição), relativamente ao centro óptico da lente,  da imagem formada pelo objeto:\n",
        "\n",
        "A imagem é formada a 25 cm em relação à lente.\n",
        "\n",
        "A imagem é formada a 5 cm em relação à lente.\n",
        "\n",
        "A imagem é formada a 15 cm em relação à lente.\n",
        "\n",
        "A imagem é formada a 30 cm em relação à lente."
      ],
      "metadata": {
        "id": "-rgz9so9Uh_Y"
      }
    },
    {
      "cell_type": "markdown",
      "source": [
        "Para resolver essa questão, podemos usar a equação da lente, que relaciona a distância focal (f), a distância do objeto (o) e a distância da imagem (i) da seguinte forma:\n",
        "\n",
        "![image.png](data:image/png;base64,iVBORw0KGgoAAAANSUhEUgAAAGcAAAA3CAYAAAARz1QOAAAAAXNSR0IArs4c6QAAAARnQU1BAACxjwv8YQUAAAAJcEhZcwAADsMAAA7DAcdvqGQAAAUpSURBVHhe7ZtRSFtXGMf/GxjBRKiOisGtrdRlYPNghUZlTrFQJ9gV1AcnzBZcV4fiQyysPtSX+TB90bIROlAKU+gKQwVdoNYuMpdR6yCmeOPQZpg6JVmKUZabQa4P2bnm0CHdknvV5Z6583sw5/tOwM/7v/c733eO95UYARwmeZV+chiEi8MwXByG4eIwjDpxRAF2xzo1WCUCYcIJP7XYQX1cSau1aECAx72C72dmMO3eQKjmU8xZzXSWEaQgBLeAlRkn7E4PPJEqDDk+huZRHjAuZU9Otgl1Nz7AhR1qM0kWTA0duFrOWpD7jyupOOm5ZhRbzDiVraceBtHlwGw5C3NBFjJ11McCB4yLFwQMw8VhGC4Ow3BxGIaLwzBcHIbh4jCMenEkpjtRyg4kOmILdXElP2xbGkFzjxOboecIUV10+uM4acjHVVsXKrPjPm1Zxr2mftjFbTyN0CDTMvAmaZxNV3rRXZMV96Wcg8XFT0IZhq85DMPFYRguTgI2J7phc1NDA7g4CdG26uPiMAwXh2FSVkqHnV+gzSZQSwlmtA12oMxATQ3YnOjC8IleWIuoI8X8ozil5+vpSBlzjjE6Si1K40wcn4Sw+PLOh58UBOO5PWizUMcL0pBpSHy0eRhx8SaUEPU6MDS5Qq2/EL1OrBjKUZxLHS/IQ+VH78H8Lz/VKRTn7+/OROgMeqTTsRYwm9YOndAqXN5taighDcYiM4wa/sPG/0ec/yBai7PvUjrsFeBaCiJKbc7hsw9xIhAGWtE9tQHB1onLtmXq5yRFXMX0XQd8IrWToF6cNQcGJvW4cA5w/fwH/KHtI/v0GAouovSlSm3/CINd6B66g9k16kiC6jXHd7cV7391FkNTzXiNpDVDYT4y6RwnCXJRFDqG4gJlh38qn5wInj15DhTkwwg9jFwYdWTnKxZGRrE4UTFC+hRSBLjJ7yjIgW7XZvGkXoJ/aQGueQG+EHVpTjwmYS1CbWUoE0daxezgCIZt45glfaQx8BjDsu3coF9ggQh8E7348Eo/HgVkO4hxayM+mQjuzmpHENM3ejEdWIe9vQU9DhUCyWuOYhZux0qqrsVGn1GbGcTYYv+12Dv1t2OLYeqSefw5ifdm7MEmtTXg9+8+i/X+IJLRYqy/ui7W8s2v8QkFqFpz/F55/8kE4yFWMIdB1D2C7slt1Fqb9+536dLIDw9JJ3Ez9Uh4+iQHteV6RJ1TGN/JQ63ldTqXHHXi/OIDTptwiqV3YEg6m/v6AfywoMKy9x2icEjrlKZDsbUFZiKSZ2Ye0hvVKDtBpxSgQpx1+OTzdFKhGeMORiDl6U/k41wJzHtuGgnCjyTgtLdRWUhdWiHOY2xmBxVN5aqunXJxRB9cvwGlp/Oogx12s1fusb1lfWgedidw8tJFFGv8pIdJSnuIIpLeSBntHUHf/S06kxjl4qytkOydoapOTw0mVNZkkPiCCFMPsIVHti8xV9iKW+1vUZ9WbGFuygNUvYtSQwSuySBKLcquoeIdAnmHtvbWcQzcv44yptYcgriMe9Ye2LNLdrdb/O4VZDZ0ou0SG02yfO3qRjPQKK83DdfRXqTs/VrF4rj66tEW6sR0XzmzuwJyoywpOELWBIk07dCrenE3cVoLTOFmUyfGvPFioKLqDNPbNekG8sezKIyMTp0wMgnFEUbv4GGI3I3eBdilalw+z9p6c7RJnNYCTvT1fAu/IQ+N1g6UMdZ8HnX4MTXDqGhCOamGi8MwXByG4eIwDBeHWYA/Aa3JaG64RxkyAAAAAElFTkSuQmCC)\n",
        "\n",
        "onde:\n",
        "\n",
        "f é a distância focal da lente,\n",
        "\n",
        "o é a distância do objeto até o centro óptico da lente,\n",
        "\n",
        "i é a distância da imagem formada em relação ao centro óptico da lente.\n",
        "\n",
        "Os valores dados são:\n",
        "\n",
        "f=15 cm (lembrando que a lente é convergente, então a distância focal é positiva),\n",
        "\n",
        "o=10 cm.\n",
        "\n",
        "Precisamos encontrar o valor de i. Vamos rearranjar a equação para resolver i:\n",
        "\n",
        "![image.png](data:image/png;base64,iVBORw0KGgoAAAANSUhEUgAAAGMAAAA1CAYAAABV7FV/AAAAAXNSR0IArs4c6QAAAARnQU1BAACxjwv8YQUAAAAJcEhZcwAADsMAAA7DAcdvqGQAAASuSURBVHhe7ZtfSFt3FMe/GyQFE6E6Jg3un9Rl4AK1QmNkzqIwV7AUqg/Oh7bgRi2KD7Gw9aE++TB90bIROlAKq9AVNhV0gaZ2kbmMWgvR4k2HNsPUtiTLaCrLzcDrQ/a75jeYNia3Os1J/X0eknvOLw+H+733nN/5HfJKnAEBCV7l3wICCDEIIcQghBCDEEIMQmgQIwZp1IMgt2hCOUbtsSXf2iphSLMSFiY8cHp88MWqMeA+BwtfJgHlGLcYW4o3Iw/mhnZ8VrnKbYpQjvHFY0suhr4AFuthWIrzkKvnPmpQjnGLsYkCTgghBiGEGIQQYhBCiEEIIQYhhBiE0CjGKhR+RRfKMWqLbZNJ3zyuN/XCKS/jQYx3kLocvJtvgPlMNzqP5SV8GYVyjFuLTYxdCSFqBiGEGIQQYhBCiEEIIQYhdmw3FfV8jVaHxC0tWNDa344KIzf3IM+JYaup51epmXIP86vdRWt8/5I2TiWGqNZuUW9IOyzazv3b431GDNIPg/j5ETfTceg42mre4Mb/zw6KoSAqv9hsWm80YB+/3ovsnBiRRXj9y9zQgg6mUgtMVGfuu8AeT1O0eOm2tlG/BO/9MFa4nU1oE0NexPg1NwIyt0nCinFfCzpdTyA5OnDaMc/92YMmMaT+C+gcuILJJe6gyJIbfWMGfHQE8P72N4KR5ax7O7TVDLUYR/ajrJjCHCM5gWst+OTbwxhwncJrLE0ZS4qQy9eyBW1pKr+ItBBqinp470+guAgmGGDKQiFU0oihIHh/BtJSjNv0WJFZBy2zoj3LnpniAujXbEoD2MQ99E5LCES4axNSiBHG+BfdGA89hrOtGV1ugoIoi5jsH8RVxwgmWX9pCt3BVdX2POE/yCQxBEa78emZXtwOqXYYI/ZGfD4aXltNilozkvHXT1/Gu3+R2dVcvLf2ZLz5+0eJBYrMXI6XV5+NDz3kdsaR43O9Z+Mf1l+Oz0W5S+XOVyzOi/GbT7m9gU3eDAUP7hWgrtKAFY8LI6uFqLPu3JnMdgn6F9inGaYDCTvTrMwOonNsGXX2U7D89xRar2MfPpb2E+ZGNhFDjzJ7MyxMFN/ENJQ3a1HxFl8iSPD3AHDQjHdIHKXEMPXdTQRhRZXVwH0JopEUKYqRuoDL0xieWEVVUyXbpVDlMQKseIPtoGjEyNqAu+zrSDks6x4OBdKvLFDdBzhawl0bSClGlKWoWyhl6Ypta/2D6LnxjK8QQg7A+wdgO1jIHZlnLRsd2L9+ex2ZhtMDvH3iOMo2eYNTiPEMUy4fUP0xbMYYvGNh2KwEe42lBZaFcwj1QWYcPZbD4gojyj3qvbzt+AZTJS241PYe9z1Pyg786egFnBzKQaNaLxrOo610fQ6kgBpj3aXX0XfjPCqoHL/L87hu74Izvxw2tqkIzi4gt6EDrSdSN6Ppj0PUsSTraqn+t8/bU4/WSAfGeyrJdd1qQ6pAh1yjtpuXuoCraJj77johFy42dWDYnyjeVdXvkzz+2Gdk906jECrpxSCINHQFtyLsqfPPwKnU4nQN5XMz7WTnpC/kQU/XjwgaC9Fob0cFkWZvu4ixKyGyMk29rAgxCCHEIAPwD5HeOjyqIZU2AAAAAElFTkSuQmCC)\n",
        "\n",
        "Substituindo os valores fornecidos na equação, podemos calcular a distância da imagem.\n",
        "\n",
        "A imagem é formada a 30 cm em relação à lente, mas como o resultado é negativo (-30 cm), isso indica que a imagem é formada no lado oposto do objeto em relação à lente, seguindo a convenção de sinais da óptica geométrica. Isso é característico de imagens virtuais criadas por lentes convergentes quando o objeto está dentro da distância focal da lente.\n",
        "\n",
        "Portanto, a alternativa correta é:"
      ],
      "metadata": {
        "id": "i6egRHmwayQM"
      }
    },
    {
      "cell_type": "code",
      "source": [
        "# Dados fornecidos\n",
        "f = 15  # distância focal em cm\n",
        "o = 10  # distância do objeto em cm\n",
        "\n",
        "# Calculando a distância da imagem\n",
        "i_inv = (1/f) - (1/o)\n",
        "i = 1 / i_inv\n",
        "\n",
        "i\n"
      ],
      "metadata": {
        "colab": {
          "base_uri": "https://localhost:8080/"
        },
        "id": "M6Ex_T9wUhxU",
        "outputId": "28200650-ea68-432c-88bb-78d354438e43"
      },
      "execution_count": 2,
      "outputs": [
        {
          "output_type": "execute_result",
          "data": {
            "text/plain": [
              "-29.999999999999993"
            ]
          },
          "metadata": {},
          "execution_count": 2
        }
      ]
    },
    {
      "cell_type": "markdown",
      "source": [
        "---"
      ],
      "metadata": {
        "id": "MaFzFjCZbNDw"
      }
    },
    {
      "cell_type": "markdown",
      "source": [
        "Um fotógrafo comprou uma câmera nova e percebeu que na embalagem havia especificações das dimensões do sensor e da distância focal da lente da câmera, mas não havia informações sobre seu campo de visão angular. Suponha condições ideais, ou seja, que a lente da câmera seja um orifício com foco no infinito. Sabendo que a câmera utiliza um sensor de 36mm e uma lente grande angular com 30mm de distância focal, determine qual é, aproximadamente, o campo de visão angular da câmera:\n",
        "\n",
        "62º\n",
        "\n",
        "23º\n",
        "\n",
        "45º\n",
        "\n",
        "31º"
      ],
      "metadata": {
        "id": "41jz7z2nbNtA"
      }
    },
    {
      "cell_type": "markdown",
      "source": [
        "Para calcular o campo de visão angular (FoV) de uma câmera com base nas dimensões do sensor e na distância focal da lente, podemos usar a fórmula:\n",
        "\n",
        "![image.png](data:image/png;base64,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)\n",
        "\n",
        "onde:\n",
        "\n",
        "d é a dimensão do sensor na direção em que desejamos calcular o FoV (neste caso, 36mm, assumindo que estamos interessados na largura do sensor, que é comum para cálculos de FoV horizontal),\n",
        "\n",
        "f é a distância focal da lente (30mm).\n",
        "Vamos calcular o campo de visão angular usando esta fórmula.\n",
        "\n",
        "O campo de visão angular da câmera, aproximadamente, é de 62º.\n",
        "\n",
        "Portanto, a alternativa correta é:"
      ],
      "metadata": {
        "id": "hOkskmg0bXLB"
      }
    },
    {
      "cell_type": "code",
      "source": [
        "from math import atan, degrees\n",
        "\n",
        "# Dimensões e distância focal\n",
        "d = 36  # dimensão do sensor em mm\n",
        "f = 30  # distância focal em mm\n",
        "\n",
        "# Calculando o FoV\n",
        "FoV = 2 * degrees(atan(d / (2 * f)))\n",
        "\n",
        "FoV\n"
      ],
      "metadata": {
        "colab": {
          "base_uri": "https://localhost:8080/"
        },
        "id": "yOkv7Kn1bWbh",
        "outputId": "7929ae4d-dc0b-4183-ac15-bd9aff57bf1a"
      },
      "execution_count": 3,
      "outputs": [
        {
          "output_type": "execute_result",
          "data": {
            "text/plain": [
              "61.92751306414704"
            ]
          },
          "metadata": {},
          "execution_count": 3
        }
      ]
    }
  ]
}