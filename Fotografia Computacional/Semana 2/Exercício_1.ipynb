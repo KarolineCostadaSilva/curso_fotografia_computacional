{
  "nbformat": 4,
  "nbformat_minor": 0,
  "metadata": {
    "colab": {
      "provenance": []
    },
    "kernelspec": {
      "name": "python3",
      "display_name": "Python 3"
    },
    "language_info": {
      "name": "python"
    }
  },
  "cells": [
    {
      "cell_type": "markdown",
      "source": [
        "Usando o processamento de imagens coloridas, decomponha a imagem “baboon.jpg”, apresentada abaixo (e disponível em: https://github.com/kevinruiz182/image_processing_tools/tree/main/images/fundamentals) em cada canal dos modelos RGB e CMY.\n",
        "\n",
        "Então assinale abaixo a intensidade média dos pixels correspondente às componentes R, B, G, C, M e Y, respectivamente, considerando a denormalização dos tons de cinza, onde cada canal ocupa o intervalo [0;255]."
      ],
      "metadata": {
        "id": "RTezVt96T3O2"
      }
    },
    {
      "cell_type": "code",
      "source": [
        "import os\n",
        "if os.path.isdir(\"imgcourse\"):\n",
        "  print(\"Diretório já existe!\")\n",
        "else:\n",
        "  !git clone https://github.com/kevinruiz182/image_processing_tools/\n"
      ],
      "metadata": {
        "colab": {
          "base_uri": "https://localhost:8080/"
        },
        "id": "sbp0SFC-L0Sw",
        "outputId": "0deed81f-12c7-4132-bc7b-f05ff79539ac"
      },
      "execution_count": null,
      "outputs": [
        {
          "output_type": "stream",
          "name": "stdout",
          "text": [
            "Cloning into 'image_processing_tools'...\n",
            "remote: Enumerating objects: 122, done.\u001b[K\n",
            "remote: Counting objects:   7% (1/14)\u001b[K\rremote: Counting objects:  14% (2/14)\u001b[K\rremote: Counting objects:  21% (3/14)\u001b[K\rremote: Counting objects:  28% (4/14)\u001b[K\rremote: Counting objects:  35% (5/14)\u001b[K\rremote: Counting objects:  42% (6/14)\u001b[K\rremote: Counting objects:  50% (7/14)\u001b[K\rremote: Counting objects:  57% (8/14)\u001b[K\rremote: Counting objects:  64% (9/14)\u001b[K\rremote: Counting objects:  71% (10/14)\u001b[K\rremote: Counting objects:  78% (11/14)\u001b[K\rremote: Counting objects:  85% (12/14)\u001b[K\rremote: Counting objects:  92% (13/14)\u001b[K\rremote: Counting objects: 100% (14/14)\u001b[K\rremote: Counting objects: 100% (14/14), done.\u001b[K\n",
            "remote: Compressing objects: 100% (11/11), done.\u001b[K\n",
            "remote: Total 122 (delta 2), reused 10 (delta 2), pack-reused 108\u001b[K\n",
            "Receiving objects: 100% (122/122), 46.98 MiB | 31.36 MiB/s, done.\n",
            "Resolving deltas: 100% (15/15), done.\n"
          ]
        }
      ]
    },
    {
      "cell_type": "code",
      "execution_count": null,
      "metadata": {
        "colab": {
          "base_uri": "https://localhost:8080/"
        },
        "id": "ZR6PsFxKK7F0",
        "outputId": "d7e682b6-fb76-47ef-d4ae-99cff7551b05"
      },
      "outputs": [
        {
          "output_type": "execute_result",
          "data": {
            "text/plain": [
              "(137.38924407958984,\n",
              " 128.86616134643555,\n",
              " 113.12966918945312,\n",
              " 117.61075592041016,\n",
              " 126.13383865356445,\n",
              " 141.87033081054688)"
            ]
          },
          "metadata": {},
          "execution_count": 5
        }
      ],
      "source": [
        "from PIL import Image\n",
        "import numpy as np\n",
        "\n",
        "# Carregar a imagem\n",
        "img_path = '/content/image_processing_tools/images/fundamentals/baboon.jpg'\n",
        "img = Image.open(img_path)\n",
        "\n",
        "# Converter a imagem para RGB\n",
        "img_rgb = img.convert('RGB')\n",
        "\n",
        "# Decompor os canais R, G e B\n",
        "r, g, b = img_rgb.split()\n",
        "\n",
        "# Converter os canais para arrays numpy\n",
        "r_array = np.array(r)\n",
        "g_array = np.array(g)\n",
        "b_array = np.array(b)\n",
        "\n",
        "# Calcular a intensidade média dos canais R, G e B\n",
        "r_mean = r_array.mean()\n",
        "g_mean = g_array.mean()\n",
        "b_mean = b_array.mean()\n",
        "\n",
        "# Calcular os canais CMY (cian, magenta, amarelo)\n",
        "# CMY colors are compliments of RGB colors, values are given by (255 - RGB)\n",
        "c_array = 255 - r_array\n",
        "m_array = 255 - g_array\n",
        "y_array = 255 - b_array\n",
        "\n",
        "# Calcular a intensidade média dos canais CMY\n",
        "c_mean = c_array.mean()\n",
        "m_mean = m_array.mean()\n",
        "y_mean = y_array.mean()\n",
        "\n",
        "# Resultados\n",
        "(r_mean, g_mean, b_mean, c_mean, m_mean, y_mean)\n"
      ]
    }
  ]
}